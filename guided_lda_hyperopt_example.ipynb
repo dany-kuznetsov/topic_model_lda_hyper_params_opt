{
  "nbformat": 4,
  "nbformat_minor": 0,
  "metadata": {
    "colab": {
      "name": "guided_lda_hyperopt_example.ipynb",
      "provenance": [],
      "collapsed_sections": [],
      "toc_visible": true,
      "authorship_tag": "ABX9TyO6qZVK7zzUkq5Exclf02wR",
      "include_colab_link": true
    },
    "kernelspec": {
      "name": "python3",
      "display_name": "Python 3"
    },
    "language_info": {
      "name": "python"
    }
  },
  "cells": [
    {
      "cell_type": "markdown",
      "metadata": {
        "id": "view-in-github",
        "colab_type": "text"
      },
      "source": [
        "<a href=\"https://colab.research.google.com/github/dany-kuznetsov/topic_model_lda_hyper_params_opt/blob/master/guided_lda_hyperopt_example.ipynb\" target=\"_parent\"><img src=\"https://colab.research.google.com/assets/colab-badge.svg\" alt=\"Open In Colab\"/></a>"
      ]
    },
    {
      "cell_type": "markdown",
      "metadata": {
        "id": "Aja_E7diu3qs"
      },
      "source": [
        "# Notebook with an example of implementation Guided LDA model"
      ]
    },
    {
      "cell_type": "markdown",
      "metadata": {
        "id": "1tXcbo72u3ct"
      },
      "source": [
        "## Download modules in google collab"
      ]
    },
    {
      "cell_type": "code",
      "metadata": {
        "colab": {
          "base_uri": "https://localhost:8080/"
        },
        "id": "dUWeathnunvD",
        "outputId": "add4ddaf-5e45-41dc-c37e-19029259575a"
      },
      "source": [
        "! pip install hyperopt==0.2.5"
      ],
      "execution_count": 1,
      "outputs": [
        {
          "output_type": "stream",
          "text": [
            "Collecting hyperopt==0.2.5\n",
            "\u001b[?25l  Downloading https://files.pythonhosted.org/packages/a6/07/bd524635d218adae139be320eeac87fb4fbbd45c63b0bd58930c9e91f1fc/hyperopt-0.2.5-py2.py3-none-any.whl (965kB)\n",
            "\r\u001b[K     |▍                               | 10kB 14.0MB/s eta 0:00:01\r\u001b[K     |▊                               | 20kB 17.5MB/s eta 0:00:01\r\u001b[K     |█                               | 30kB 21.5MB/s eta 0:00:01\r\u001b[K     |█▍                              | 40kB 19.2MB/s eta 0:00:01\r\u001b[K     |█▊                              | 51kB 17.7MB/s eta 0:00:01\r\u001b[K     |██                              | 61kB 18.4MB/s eta 0:00:01\r\u001b[K     |██▍                             | 71kB 16.4MB/s eta 0:00:01\r\u001b[K     |██▊                             | 81kB 17.6MB/s eta 0:00:01\r\u001b[K     |███                             | 92kB 16.2MB/s eta 0:00:01\r\u001b[K     |███▍                            | 102kB 15.8MB/s eta 0:00:01\r\u001b[K     |███▊                            | 112kB 15.8MB/s eta 0:00:01\r\u001b[K     |████                            | 122kB 15.8MB/s eta 0:00:01\r\u001b[K     |████▍                           | 133kB 15.8MB/s eta 0:00:01\r\u001b[K     |████▊                           | 143kB 15.8MB/s eta 0:00:01\r\u001b[K     |█████                           | 153kB 15.8MB/s eta 0:00:01\r\u001b[K     |█████▍                          | 163kB 15.8MB/s eta 0:00:01\r\u001b[K     |█████▊                          | 174kB 15.8MB/s eta 0:00:01\r\u001b[K     |██████                          | 184kB 15.8MB/s eta 0:00:01\r\u001b[K     |██████▌                         | 194kB 15.8MB/s eta 0:00:01\r\u001b[K     |██████▉                         | 204kB 15.8MB/s eta 0:00:01\r\u001b[K     |███████▏                        | 215kB 15.8MB/s eta 0:00:01\r\u001b[K     |███████▌                        | 225kB 15.8MB/s eta 0:00:01\r\u001b[K     |███████▉                        | 235kB 15.8MB/s eta 0:00:01\r\u001b[K     |████████▏                       | 245kB 15.8MB/s eta 0:00:01\r\u001b[K     |████████▌                       | 256kB 15.8MB/s eta 0:00:01\r\u001b[K     |████████▉                       | 266kB 15.8MB/s eta 0:00:01\r\u001b[K     |█████████▏                      | 276kB 15.8MB/s eta 0:00:01\r\u001b[K     |█████████▌                      | 286kB 15.8MB/s eta 0:00:01\r\u001b[K     |█████████▉                      | 296kB 15.8MB/s eta 0:00:01\r\u001b[K     |██████████▏                     | 307kB 15.8MB/s eta 0:00:01\r\u001b[K     |██████████▌                     | 317kB 15.8MB/s eta 0:00:01\r\u001b[K     |██████████▉                     | 327kB 15.8MB/s eta 0:00:01\r\u001b[K     |███████████▏                    | 337kB 15.8MB/s eta 0:00:01\r\u001b[K     |███████████▌                    | 348kB 15.8MB/s eta 0:00:01\r\u001b[K     |███████████▉                    | 358kB 15.8MB/s eta 0:00:01\r\u001b[K     |████████████▏                   | 368kB 15.8MB/s eta 0:00:01\r\u001b[K     |████████████▌                   | 378kB 15.8MB/s eta 0:00:01\r\u001b[K     |█████████████                   | 389kB 15.8MB/s eta 0:00:01\r\u001b[K     |█████████████▎                  | 399kB 15.8MB/s eta 0:00:01\r\u001b[K     |█████████████▋                  | 409kB 15.8MB/s eta 0:00:01\r\u001b[K     |██████████████                  | 419kB 15.8MB/s eta 0:00:01\r\u001b[K     |██████████████▎                 | 430kB 15.8MB/s eta 0:00:01\r\u001b[K     |██████████████▋                 | 440kB 15.8MB/s eta 0:00:01\r\u001b[K     |███████████████                 | 450kB 15.8MB/s eta 0:00:01\r\u001b[K     |███████████████▎                | 460kB 15.8MB/s eta 0:00:01\r\u001b[K     |███████████████▋                | 471kB 15.8MB/s eta 0:00:01\r\u001b[K     |████████████████                | 481kB 15.8MB/s eta 0:00:01\r\u001b[K     |████████████████▎               | 491kB 15.8MB/s eta 0:00:01\r\u001b[K     |████████████████▋               | 501kB 15.8MB/s eta 0:00:01\r\u001b[K     |█████████████████               | 512kB 15.8MB/s eta 0:00:01\r\u001b[K     |█████████████████▎              | 522kB 15.8MB/s eta 0:00:01\r\u001b[K     |█████████████████▋              | 532kB 15.8MB/s eta 0:00:01\r\u001b[K     |██████████████████              | 542kB 15.8MB/s eta 0:00:01\r\u001b[K     |██████████████████▎             | 552kB 15.8MB/s eta 0:00:01\r\u001b[K     |██████████████████▋             | 563kB 15.8MB/s eta 0:00:01\r\u001b[K     |███████████████████             | 573kB 15.8MB/s eta 0:00:01\r\u001b[K     |███████████████████▍            | 583kB 15.8MB/s eta 0:00:01\r\u001b[K     |███████████████████▊            | 593kB 15.8MB/s eta 0:00:01\r\u001b[K     |████████████████████            | 604kB 15.8MB/s eta 0:00:01\r\u001b[K     |████████████████████▍           | 614kB 15.8MB/s eta 0:00:01\r\u001b[K     |████████████████████▊           | 624kB 15.8MB/s eta 0:00:01\r\u001b[K     |█████████████████████           | 634kB 15.8MB/s eta 0:00:01\r\u001b[K     |█████████████████████▍          | 645kB 15.8MB/s eta 0:00:01\r\u001b[K     |█████████████████████▊          | 655kB 15.8MB/s eta 0:00:01\r\u001b[K     |██████████████████████          | 665kB 15.8MB/s eta 0:00:01\r\u001b[K     |██████████████████████▍         | 675kB 15.8MB/s eta 0:00:01\r\u001b[K     |██████████████████████▊         | 686kB 15.8MB/s eta 0:00:01\r\u001b[K     |███████████████████████         | 696kB 15.8MB/s eta 0:00:01\r\u001b[K     |███████████████████████▍        | 706kB 15.8MB/s eta 0:00:01\r\u001b[K     |███████████████████████▊        | 716kB 15.8MB/s eta 0:00:01\r\u001b[K     |████████████████████████        | 727kB 15.8MB/s eta 0:00:01\r\u001b[K     |████████████████████████▍       | 737kB 15.8MB/s eta 0:00:01\r\u001b[K     |████████████████████████▊       | 747kB 15.8MB/s eta 0:00:01\r\u001b[K     |█████████████████████████       | 757kB 15.8MB/s eta 0:00:01\r\u001b[K     |█████████████████████████▍      | 768kB 15.8MB/s eta 0:00:01\r\u001b[K     |█████████████████████████▉      | 778kB 15.8MB/s eta 0:00:01\r\u001b[K     |██████████████████████████▏     | 788kB 15.8MB/s eta 0:00:01\r\u001b[K     |██████████████████████████▌     | 798kB 15.8MB/s eta 0:00:01\r\u001b[K     |██████████████████████████▉     | 808kB 15.8MB/s eta 0:00:01\r\u001b[K     |███████████████████████████▏    | 819kB 15.8MB/s eta 0:00:01\r\u001b[K     |███████████████████████████▌    | 829kB 15.8MB/s eta 0:00:01\r\u001b[K     |███████████████████████████▉    | 839kB 15.8MB/s eta 0:00:01\r\u001b[K     |████████████████████████████▏   | 849kB 15.8MB/s eta 0:00:01\r\u001b[K     |████████████████████████████▌   | 860kB 15.8MB/s eta 0:00:01\r\u001b[K     |████████████████████████████▉   | 870kB 15.8MB/s eta 0:00:01\r\u001b[K     |█████████████████████████████▏  | 880kB 15.8MB/s eta 0:00:01\r\u001b[K     |█████████████████████████████▌  | 890kB 15.8MB/s eta 0:00:01\r\u001b[K     |█████████████████████████████▉  | 901kB 15.8MB/s eta 0:00:01\r\u001b[K     |██████████████████████████████▏ | 911kB 15.8MB/s eta 0:00:01\r\u001b[K     |██████████████████████████████▌ | 921kB 15.8MB/s eta 0:00:01\r\u001b[K     |██████████████████████████████▉ | 931kB 15.8MB/s eta 0:00:01\r\u001b[K     |███████████████████████████████▏| 942kB 15.8MB/s eta 0:00:01\r\u001b[K     |███████████████████████████████▌| 952kB 15.8MB/s eta 0:00:01\r\u001b[K     |███████████████████████████████▉| 962kB 15.8MB/s eta 0:00:01\r\u001b[K     |████████████████████████████████| 972kB 15.8MB/s \n",
            "\u001b[?25hRequirement already satisfied: cloudpickle in /usr/local/lib/python3.7/dist-packages (from hyperopt==0.2.5) (1.3.0)\n",
            "Requirement already satisfied: numpy in /usr/local/lib/python3.7/dist-packages (from hyperopt==0.2.5) (1.19.5)\n",
            "Requirement already satisfied: tqdm in /usr/local/lib/python3.7/dist-packages (from hyperopt==0.2.5) (4.41.1)\n",
            "Requirement already satisfied: scipy in /usr/local/lib/python3.7/dist-packages (from hyperopt==0.2.5) (1.4.1)\n",
            "Requirement already satisfied: networkx>=2.2 in /usr/local/lib/python3.7/dist-packages (from hyperopt==0.2.5) (2.5.1)\n",
            "Requirement already satisfied: six in /usr/local/lib/python3.7/dist-packages (from hyperopt==0.2.5) (1.15.0)\n",
            "Requirement already satisfied: future in /usr/local/lib/python3.7/dist-packages (from hyperopt==0.2.5) (0.16.0)\n",
            "Requirement already satisfied: decorator<5,>=4.3 in /usr/local/lib/python3.7/dist-packages (from networkx>=2.2->hyperopt==0.2.5) (4.4.2)\n",
            "Installing collected packages: hyperopt\n",
            "  Found existing installation: hyperopt 0.1.2\n",
            "    Uninstalling hyperopt-0.1.2:\n",
            "      Successfully uninstalled hyperopt-0.1.2\n",
            "Successfully installed hyperopt-0.2.5\n"
          ],
          "name": "stdout"
        }
      ]
    },
    {
      "cell_type": "code",
      "metadata": {
        "colab": {
          "base_uri": "https://localhost:8080/"
        },
        "id": "DXHvb2HMuzKW",
        "outputId": "709853f3-c5cf-4276-86e4-c4bd056aef11"
      },
      "source": [
        "!pip install git+https://github.com/CatalinVoss/GuidedLDA"
      ],
      "execution_count": 2,
      "outputs": [
        {
          "output_type": "stream",
          "text": [
            "Collecting git+https://github.com/CatalinVoss/GuidedLDA\n",
            "  Cloning https://github.com/CatalinVoss/GuidedLDA to /tmp/pip-req-build-rcmxmu4m\n",
            "  Running command git clone -q https://github.com/CatalinVoss/GuidedLDA /tmp/pip-req-build-rcmxmu4m\n",
            "Requirement already satisfied: numpy in /usr/local/lib/python3.7/dist-packages (from guidedlda==2.0.0.dev27) (1.19.5)\n",
            "Building wheels for collected packages: guidedlda\n",
            "  Building wheel for guidedlda (setup.py) ... \u001b[?25l\u001b[?25hdone\n",
            "  Created wheel for guidedlda: filename=guidedlda-2.0.0.dev27-cp37-cp37m-linux_x86_64.whl size=2492627 sha256=d39710b0af0e53bcb32dd53e9257115b4303e8ba5594ba5b0aa3089f1ef5ac7e\n",
            "  Stored in directory: /tmp/pip-ephem-wheel-cache-5axyfy2f/wheels/a4/d5/1c/a4bf220c10fc39992c8af75ee87dc0cdd2c332bf6923b4c5eb\n",
            "Successfully built guidedlda\n",
            "Installing collected packages: guidedlda\n",
            "Successfully installed guidedlda-2.0.0.dev27\n"
          ],
          "name": "stdout"
        }
      ]
    },
    {
      "cell_type": "markdown",
      "metadata": {
        "id": "ftHwvD6K3_22"
      },
      "source": [
        "## Ordinary imports"
      ]
    },
    {
      "cell_type": "code",
      "metadata": {
        "id": "FlyJt224uzRV"
      },
      "source": [
        "import numpy as np\n",
        "import pandas as pd\n",
        "import math\n",
        "import csv\n",
        "\n",
        "from datetime import datetime\n",
        "\n",
        "import os.path\n",
        "from os import path\n",
        "import time\n",
        "\n",
        "import matplotlib.pyplot as plt\n",
        "import seaborn as sns\n",
        "\n",
        "import re\n",
        "import scipy\n",
        "import nltk\n",
        "import gensim\n",
        "import guidedlda\n",
        "import spacy\n",
        "\n",
        "from functools import partial"
      ],
      "execution_count": 3,
      "outputs": []
    },
    {
      "cell_type": "code",
      "metadata": {
        "id": "hL0NaR0luzTQ"
      },
      "source": [
        "import hyperopt\n",
        "from hyperopt import hp, fmin, tpe, Trials\n",
        "from hyperopt.pyll.base import scope"
      ],
      "execution_count": 4,
      "outputs": []
    },
    {
      "cell_type": "code",
      "metadata": {
        "colab": {
          "base_uri": "https://localhost:8080/"
        },
        "id": "_2CauOGOuzXO",
        "outputId": "bce56089-f7db-40ff-afac-fdfc002bcfad"
      },
      "source": [
        "import nltk\n",
        "nltk.download('stopwords')\n",
        "nltk.download('wordnet')"
      ],
      "execution_count": 5,
      "outputs": [
        {
          "output_type": "stream",
          "text": [
            "[nltk_data] Downloading package stopwords to /root/nltk_data...\n",
            "[nltk_data]   Unzipping corpora/stopwords.zip.\n",
            "[nltk_data] Downloading package wordnet to /root/nltk_data...\n",
            "[nltk_data]   Unzipping corpora/wordnet.zip.\n"
          ],
          "name": "stdout"
        },
        {
          "output_type": "execute_result",
          "data": {
            "text/plain": [
              "True"
            ]
          },
          "metadata": {
            "tags": []
          },
          "execution_count": 5
        }
      ]
    },
    {
      "cell_type": "code",
      "metadata": {
        "id": "vJk9_yxkvMaF"
      },
      "source": [
        "import pickle\n",
        "import re\n",
        "\n",
        "from nltk.corpus import stopwords\n",
        "from nltk.stem import WordNetLemmatizer\n",
        "import gensim\n",
        "from sklearn.feature_extraction import text"
      ],
      "execution_count": 6,
      "outputs": []
    },
    {
      "cell_type": "markdown",
      "metadata": {
        "id": "zIAJz-pk4DJf"
      },
      "source": [
        "## Imports of custom functions for two step hyper param optimization"
      ]
    },
    {
      "cell_type": "code",
      "metadata": {
        "id": "5Qp71B1WvMoN"
      },
      "source": [
        "import topic_model_hyper_param_opt"
      ],
      "execution_count": 7,
      "outputs": []
    },
    {
      "cell_type": "code",
      "metadata": {
        "id": "3GexzjhuvMqS"
      },
      "source": [
        "random_seed=420"
      ],
      "execution_count": 8,
      "outputs": []
    },
    {
      "cell_type": "markdown",
      "metadata": {
        "id": "MRUbNUbv3SYb"
      },
      "source": [
        "# General pipeline GuidedLDA"
      ]
    },
    {
      "cell_type": "code",
      "metadata": {
        "colab": {
          "base_uri": "https://localhost:8080/",
          "height": 123
        },
        "id": "HLoAOcJ7vMsG",
        "outputId": "1cb01b4c-c523-47da-961a-644dcd26df3a"
      },
      "source": [
        "# Read the dataset\n",
        "texts_df = pd.read_csv('texts_10kGNAD.csv')\n",
        "texts_df['text'] = texts_df['text'].astype(str)\n",
        "print(texts_df.shape)\n",
        "texts_df.tail(2)"
      ],
      "execution_count": 9,
      "outputs": [
        {
          "output_type": "stream",
          "text": [
            "(10273, 3)\n"
          ],
          "name": "stdout"
        },
        {
          "output_type": "execute_result",
          "data": {
            "text/html": [
              "<div>\n",
              "<style scoped>\n",
              "    .dataframe tbody tr th:only-of-type {\n",
              "        vertical-align: middle;\n",
              "    }\n",
              "\n",
              "    .dataframe tbody tr th {\n",
              "        vertical-align: top;\n",
              "    }\n",
              "\n",
              "    .dataframe thead th {\n",
              "        text-align: right;\n",
              "    }\n",
              "</style>\n",
              "<table border=\"1\" class=\"dataframe\">\n",
              "  <thead>\n",
              "    <tr style=\"text-align: right;\">\n",
              "      <th></th>\n",
              "      <th>Unnamed: 0</th>\n",
              "      <th>label</th>\n",
              "      <th>text</th>\n",
              "    </tr>\n",
              "  </thead>\n",
              "  <tbody>\n",
              "    <tr>\n",
              "      <th>10271</th>\n",
              "      <td>10271</td>\n",
              "      <td>Wissenschaft</td>\n",
              "      <td>Klimatische Verschlechterungen dürften zur Auf...</td>\n",
              "    </tr>\n",
              "    <tr>\n",
              "      <th>10272</th>\n",
              "      <td>10272</td>\n",
              "      <td>Wissenschaft</td>\n",
              "      <td>Knochen können zum Verständnis des Lebens in d...</td>\n",
              "    </tr>\n",
              "  </tbody>\n",
              "</table>\n",
              "</div>"
            ],
            "text/plain": [
              "       Unnamed: 0  ...                                               text\n",
              "10271       10271  ...  Klimatische Verschlechterungen dürften zur Auf...\n",
              "10272       10272  ...  Knochen können zum Verständnis des Lebens in d...\n",
              "\n",
              "[2 rows x 3 columns]"
            ]
          },
          "metadata": {
            "tags": []
          },
          "execution_count": 9
        }
      ]
    },
    {
      "cell_type": "code",
      "metadata": {
        "id": "BfCih-Ny6nx-"
      },
      "source": [
        "custom_stop_words = [\n",
        "    'nan', 'ja', 'nein', 'nr', 'nee',\n",
        "    'fuer', 'ueber', 'mehr', 'ab', 'beim', \n",
        "    'wurde', 'worden', 'wurden', 'wuerde', 'waere', \n",
        "    'bereits',\n",
        "]"
      ],
      "execution_count": 10,
      "outputs": []
    },
    {
      "cell_type": "code",
      "metadata": {
        "id": "ufO_M4nRvMuK"
      },
      "source": [
        "from topic_model_hyper_param_opt import preprocess_doc\n",
        "# Preprocess texts.\n",
        "texts_df['text_preprocessed'] = texts_df['text'].apply(\n",
        "    lambda x: preprocess_doc(x, lang='german', sw=True, custom_stop_words=custom_stop_words)\n",
        ")"
      ],
      "execution_count": 11,
      "outputs": []
    },
    {
      "cell_type": "code",
      "metadata": {
        "colab": {
          "base_uri": "https://localhost:8080/",
          "height": 155
        },
        "id": "xXZe0a_FvMwQ",
        "outputId": "b4e6f3a4-8565-4d11-ad70-374e22633a60"
      },
      "source": [
        "from topic_model_hyper_param_opt import create_document_term_matrix_from_texts_series\n",
        "# Create document term matrix.\n",
        "data_vect, vectorizer, data_dtm  = create_document_term_matrix_from_texts_series(\n",
        "    texts_df['text_preprocessed'],\n",
        "    ngram_range=(1, 1),\n",
        "    index_for_dtm=texts_df.index,\n",
        "    vocabulary_cut_offs={\n",
        "        'min_df': 0.002, # 0.0\n",
        "        'max_df': 0.999 # 1.0\n",
        "    }\n",
        ")\n",
        "\n",
        "# Create dictionary and corpus to get coherence score later.\n",
        "dictionary = gensim.corpora.dictionary.Dictionary(\n",
        "    documents=texts_df['text_preprocessed'], \n",
        "    prune_at=200000000\n",
        ")\n",
        "corpus = [dictionary.doc2bow(text) for text in texts_df['text_preprocessed']]\n",
        "\n",
        "feature_names = vectorizer.get_feature_names()\n",
        "word2id = dict((v, idx) for idx, v in enumerate(feature_names))\n",
        "\n",
        "data_dtm.tail(2)"
      ],
      "execution_count": 12,
      "outputs": [
        {
          "output_type": "execute_result",
          "data": {
            "text/html": [
              "<div>\n",
              "<style scoped>\n",
              "    .dataframe tbody tr th:only-of-type {\n",
              "        vertical-align: middle;\n",
              "    }\n",
              "\n",
              "    .dataframe tbody tr th {\n",
              "        vertical-align: top;\n",
              "    }\n",
              "\n",
              "    .dataframe thead th {\n",
              "        text-align: right;\n",
              "    }\n",
              "</style>\n",
              "<table border=\"1\" class=\"dataframe\">\n",
              "  <thead>\n",
              "    <tr style=\"text-align: right;\">\n",
              "      <th></th>\n",
              "      <th>abbau</th>\n",
              "      <th>abbauen</th>\n",
              "      <th>abbruch</th>\n",
              "      <th>abc</th>\n",
              "      <th>abd</th>\n",
              "      <th>abdecken</th>\n",
              "      <th>abdullah</th>\n",
              "      <th>abend</th>\n",
              "      <th>abends</th>\n",
              "      <th>abenteuer</th>\n",
              "      <th>abermals</th>\n",
              "      <th>abfahrt</th>\n",
              "      <th>abgabe</th>\n",
              "      <th>abgaben</th>\n",
              "      <th>abgang</th>\n",
              "      <th>abgebaut</th>\n",
              "      <th>abgeben</th>\n",
              "      <th>abgebildet</th>\n",
              "      <th>abgebrochen</th>\n",
              "      <th>abgedeckt</th>\n",
              "      <th>abgegeben</th>\n",
              "      <th>abgehalten</th>\n",
              "      <th>abgelaufen</th>\n",
              "      <th>abgelaufenen</th>\n",
              "      <th>abgelegt</th>\n",
              "      <th>abgelehnt</th>\n",
              "      <th>abgeloest</th>\n",
              "      <th>abgenommen</th>\n",
              "      <th>abgeordnete</th>\n",
              "      <th>abgeordneten</th>\n",
              "      <th>abgeordneter</th>\n",
              "      <th>abgerufen</th>\n",
              "      <th>abgesagt</th>\n",
              "      <th>abgeschafft</th>\n",
              "      <th>abgeschlagen</th>\n",
              "      <th>abgeschlossen</th>\n",
              "      <th>abgeschlossenen</th>\n",
              "      <th>abgeschnitten</th>\n",
              "      <th>abgeschoben</th>\n",
              "      <th>abgesegnet</th>\n",
              "      <th>...</th>\n",
              "      <th>zuversichtlich</th>\n",
              "      <th>zuvor</th>\n",
              "      <th>zuwachs</th>\n",
              "      <th>zuwaechse</th>\n",
              "      <th>zuwanderer</th>\n",
              "      <th>zuwanderung</th>\n",
              "      <th>zuzug</th>\n",
              "      <th>zuzulassen</th>\n",
              "      <th>zwang</th>\n",
              "      <th>zwangslaeufig</th>\n",
              "      <th>zwanzig</th>\n",
              "      <th>zweck</th>\n",
              "      <th>zwecke</th>\n",
              "      <th>zwecks</th>\n",
              "      <th>zwei</th>\n",
              "      <th>zweieinhalb</th>\n",
              "      <th>zweier</th>\n",
              "      <th>zweifel</th>\n",
              "      <th>zweifellos</th>\n",
              "      <th>zweifeln</th>\n",
              "      <th>zweimal</th>\n",
              "      <th>zweitaegigen</th>\n",
              "      <th>zweite</th>\n",
              "      <th>zweiten</th>\n",
              "      <th>zweitens</th>\n",
              "      <th>zweiter</th>\n",
              "      <th>zweites</th>\n",
              "      <th>zweitgroesste</th>\n",
              "      <th>zweitgroessten</th>\n",
              "      <th>zweitligisten</th>\n",
              "      <th>zwingen</th>\n",
              "      <th>zwingend</th>\n",
              "      <th>zwingt</th>\n",
              "      <th>zwischendurch</th>\n",
              "      <th>zwischenfaelle</th>\n",
              "      <th>zwischenfall</th>\n",
              "      <th>zwischenzeit</th>\n",
              "      <th>zwoelf</th>\n",
              "      <th>zwoelften</th>\n",
              "      <th>zypern</th>\n",
              "    </tr>\n",
              "  </thead>\n",
              "  <tbody>\n",
              "    <tr>\n",
              "      <th>10271</th>\n",
              "      <td>0</td>\n",
              "      <td>0</td>\n",
              "      <td>0</td>\n",
              "      <td>0</td>\n",
              "      <td>0</td>\n",
              "      <td>0</td>\n",
              "      <td>0</td>\n",
              "      <td>0</td>\n",
              "      <td>0</td>\n",
              "      <td>0</td>\n",
              "      <td>0</td>\n",
              "      <td>0</td>\n",
              "      <td>0</td>\n",
              "      <td>0</td>\n",
              "      <td>0</td>\n",
              "      <td>0</td>\n",
              "      <td>0</td>\n",
              "      <td>0</td>\n",
              "      <td>0</td>\n",
              "      <td>0</td>\n",
              "      <td>0</td>\n",
              "      <td>0</td>\n",
              "      <td>0</td>\n",
              "      <td>0</td>\n",
              "      <td>0</td>\n",
              "      <td>0</td>\n",
              "      <td>0</td>\n",
              "      <td>0</td>\n",
              "      <td>0</td>\n",
              "      <td>0</td>\n",
              "      <td>0</td>\n",
              "      <td>0</td>\n",
              "      <td>0</td>\n",
              "      <td>0</td>\n",
              "      <td>0</td>\n",
              "      <td>0</td>\n",
              "      <td>0</td>\n",
              "      <td>0</td>\n",
              "      <td>0</td>\n",
              "      <td>0</td>\n",
              "      <td>...</td>\n",
              "      <td>0</td>\n",
              "      <td>0</td>\n",
              "      <td>0</td>\n",
              "      <td>0</td>\n",
              "      <td>0</td>\n",
              "      <td>0</td>\n",
              "      <td>0</td>\n",
              "      <td>0</td>\n",
              "      <td>0</td>\n",
              "      <td>0</td>\n",
              "      <td>0</td>\n",
              "      <td>0</td>\n",
              "      <td>0</td>\n",
              "      <td>0</td>\n",
              "      <td>1</td>\n",
              "      <td>0</td>\n",
              "      <td>0</td>\n",
              "      <td>0</td>\n",
              "      <td>0</td>\n",
              "      <td>0</td>\n",
              "      <td>0</td>\n",
              "      <td>0</td>\n",
              "      <td>0</td>\n",
              "      <td>1</td>\n",
              "      <td>0</td>\n",
              "      <td>0</td>\n",
              "      <td>0</td>\n",
              "      <td>0</td>\n",
              "      <td>0</td>\n",
              "      <td>0</td>\n",
              "      <td>0</td>\n",
              "      <td>0</td>\n",
              "      <td>0</td>\n",
              "      <td>0</td>\n",
              "      <td>0</td>\n",
              "      <td>0</td>\n",
              "      <td>1</td>\n",
              "      <td>0</td>\n",
              "      <td>0</td>\n",
              "      <td>0</td>\n",
              "    </tr>\n",
              "    <tr>\n",
              "      <th>10272</th>\n",
              "      <td>0</td>\n",
              "      <td>0</td>\n",
              "      <td>0</td>\n",
              "      <td>0</td>\n",
              "      <td>0</td>\n",
              "      <td>0</td>\n",
              "      <td>0</td>\n",
              "      <td>0</td>\n",
              "      <td>0</td>\n",
              "      <td>0</td>\n",
              "      <td>0</td>\n",
              "      <td>0</td>\n",
              "      <td>0</td>\n",
              "      <td>0</td>\n",
              "      <td>0</td>\n",
              "      <td>0</td>\n",
              "      <td>0</td>\n",
              "      <td>0</td>\n",
              "      <td>0</td>\n",
              "      <td>0</td>\n",
              "      <td>0</td>\n",
              "      <td>0</td>\n",
              "      <td>0</td>\n",
              "      <td>0</td>\n",
              "      <td>0</td>\n",
              "      <td>0</td>\n",
              "      <td>0</td>\n",
              "      <td>0</td>\n",
              "      <td>0</td>\n",
              "      <td>0</td>\n",
              "      <td>0</td>\n",
              "      <td>1</td>\n",
              "      <td>0</td>\n",
              "      <td>0</td>\n",
              "      <td>0</td>\n",
              "      <td>0</td>\n",
              "      <td>0</td>\n",
              "      <td>0</td>\n",
              "      <td>0</td>\n",
              "      <td>0</td>\n",
              "      <td>...</td>\n",
              "      <td>0</td>\n",
              "      <td>1</td>\n",
              "      <td>0</td>\n",
              "      <td>0</td>\n",
              "      <td>0</td>\n",
              "      <td>0</td>\n",
              "      <td>0</td>\n",
              "      <td>0</td>\n",
              "      <td>0</td>\n",
              "      <td>0</td>\n",
              "      <td>0</td>\n",
              "      <td>0</td>\n",
              "      <td>0</td>\n",
              "      <td>0</td>\n",
              "      <td>0</td>\n",
              "      <td>0</td>\n",
              "      <td>0</td>\n",
              "      <td>0</td>\n",
              "      <td>0</td>\n",
              "      <td>0</td>\n",
              "      <td>0</td>\n",
              "      <td>0</td>\n",
              "      <td>0</td>\n",
              "      <td>0</td>\n",
              "      <td>0</td>\n",
              "      <td>0</td>\n",
              "      <td>0</td>\n",
              "      <td>0</td>\n",
              "      <td>0</td>\n",
              "      <td>0</td>\n",
              "      <td>0</td>\n",
              "      <td>0</td>\n",
              "      <td>0</td>\n",
              "      <td>0</td>\n",
              "      <td>0</td>\n",
              "      <td>0</td>\n",
              "      <td>0</td>\n",
              "      <td>0</td>\n",
              "      <td>0</td>\n",
              "      <td>0</td>\n",
              "    </tr>\n",
              "  </tbody>\n",
              "</table>\n",
              "<p>2 rows × 10811 columns</p>\n",
              "</div>"
            ],
            "text/plain": [
              "       abbau  abbauen  abbruch  abc  ...  zwischenzeit  zwoelf  zwoelften  zypern\n",
              "10271      0        0        0    0  ...             1       0          0       0\n",
              "10272      0        0        0    0  ...             0       0          0       0\n",
              "\n",
              "[2 rows x 10811 columns]"
            ]
          },
          "metadata": {
            "tags": []
          },
          "execution_count": 12
        }
      ]
    },
    {
      "cell_type": "code",
      "metadata": {
        "id": "4bU189FZvMx9"
      },
      "source": [
        "# Define topics seed to guide LDA model\n",
        "seed_topic_list_10kGNAD = [\n",
        "    ['telekom'],\n",
        "    ['saison', 'spiel', 'team'],\n",
        "    [\"google\", \"android\", \"nutzer\", \"unternehmen\",  \"smartphone\", \"app\", 'hersteller'],\n",
        "    ['tv', 'radio', 'sendung'],\n",
        "    ['iphone', 'apple', 'ipad'],\n",
        "    ['praesident', 'wahl'],\n",
        "    ['fluechtlinge'],\n",
        "    ['syrien', 'tuerkei', 'getoetet'],\n",
        "    ['yahoo'],\n",
        "]\n",
        "\n",
        "seed_topics = {}\n",
        "for t_id, st in enumerate(seed_topic_list_10kGNAD):\n",
        "    for word in st:\n",
        "        seed_topics[word2id[word]] = t_id"
      ],
      "execution_count": 13,
      "outputs": []
    },
    {
      "cell_type": "code",
      "metadata": {
        "colab": {
          "base_uri": "https://localhost:8080/"
        },
        "id": "JWm_f4ln3W7s",
        "outputId": "cb251f47-7117-4eb3-fb76-6af3728a2938"
      },
      "source": [
        "from topic_model_hyper_param_opt import stage_1_optimization_guidedlda\n",
        "from topic_model_hyper_param_opt import trails_of_hyper_opt_to_dataframe_guidedlda\n",
        "\n",
        "# Find almost all optimal params of LDA model with fixed number of topics.\n",
        "params_optimal_stage_1, trials_stage_1 = stage_1_optimization_guidedlda(\n",
        "    data_vect=data_vect,\n",
        "    seed_topics=seed_topics,\n",
        "    dictionary=dictionary,\n",
        "    feature_names=feature_names,\n",
        "    corpus=corpus,\n",
        "    param_dict={},\n",
        "    metric_to_optimize='coherence_consistent',\n",
        "    stage_1_params={\n",
        "        'n_topics_min': 8,\n",
        "        'n_topics_max': 16,\n",
        "        'n_iter_param': 100,\n",
        "        'refresh_param': 20,\n",
        "        'seed_confidence': 0.15,\n",
        "        'max_eval_param': 10,\n",
        "        'timeout_param': 86400, \n",
        "    },\n",
        "    random_seed=random_seed\n",
        ")\n",
        "\n",
        "print(params_optimal_stage_1)\n",
        "\n",
        "trials_stage_1_df = trails_of_hyper_opt_to_dataframe_guidedlda(trials_stage_1)\n",
        "trials_stage_1_df.to_csv('trials_stage_1_df_guidedlda.csv')"
      ],
      "execution_count": 14,
      "outputs": [
        {
          "output_type": "stream",
          "text": [
            "\r  0%|          | 0/10 [00:00<?, ?trial/s, best loss=?]"
          ],
          "name": "stdout"
        },
        {
          "output_type": "stream",
          "text": [
            "INFO:guidedlda:n_documents: 10273\n",
            "\n",
            "INFO:guidedlda:vocab_size: 10811\n",
            "\n",
            "INFO:guidedlda:n_words: 1516968\n",
            "\n",
            "INFO:guidedlda:n_topics: 14\n",
            "\n",
            "INFO:guidedlda:n_iter: 100\n",
            "\n",
            "WARNING:guidedlda:all zero row in document-term matrix found\n",
            "\n",
            "INFO:guidedlda:<0> log likelihood: -17873260\n",
            "\n",
            "INFO:guidedlda:<20> log likelihood: -13636695\n",
            "\n",
            "INFO:guidedlda:<40> log likelihood: -13365991\n",
            "\n",
            "INFO:guidedlda:<60> log likelihood: -13265797\n",
            "\n",
            "INFO:guidedlda:<80> log likelihood: -13214670\n",
            "\n",
            "INFO:guidedlda:<99> log likelihood: -13178717\n",
            "\n",
            "INFO:gensim.topic_coherence.text_analysis:CorpusAccumulator accumulated stats from 1000 documents\n",
            "\n",
            "INFO:gensim.topic_coherence.text_analysis:CorpusAccumulator accumulated stats from 2000 documents\n",
            "\n",
            "INFO:gensim.topic_coherence.text_analysis:CorpusAccumulator accumulated stats from 3000 documents\n",
            "\n",
            "INFO:gensim.topic_coherence.text_analysis:CorpusAccumulator accumulated stats from 4000 documents\n",
            "\n",
            "INFO:gensim.topic_coherence.text_analysis:CorpusAccumulator accumulated stats from 5000 documents\n",
            "\n",
            "INFO:gensim.topic_coherence.text_analysis:CorpusAccumulator accumulated stats from 6000 documents\n",
            "\n",
            "INFO:gensim.topic_coherence.text_analysis:CorpusAccumulator accumulated stats from 7000 documents\n",
            "\n",
            "INFO:gensim.topic_coherence.text_analysis:CorpusAccumulator accumulated stats from 8000 documents\n",
            "\n",
            "INFO:gensim.topic_coherence.text_analysis:CorpusAccumulator accumulated stats from 9000 documents\n",
            "\n",
            "INFO:gensim.topic_coherence.text_analysis:CorpusAccumulator accumulated stats from 10000 documents\n",
            "\n"
          ],
          "name": "stderr"
        },
        {
          "output_type": "stream",
          "text": [
            "\r 10%|█         | 1/10 [00:32<04:55, 32.81s/trial, best loss: 1.7869203760982117]"
          ],
          "name": "stdout"
        },
        {
          "output_type": "stream",
          "text": [
            "INFO:hyperopt.tpe:build_posterior_wrapper took 0.005917 seconds\n",
            "\n",
            "INFO:hyperopt.tpe:TPE using 1/1 trials with best loss 1.786920\n",
            "\n",
            "INFO:guidedlda:n_documents: 10273\n",
            "\n",
            "INFO:guidedlda:vocab_size: 10811\n",
            "\n",
            "INFO:guidedlda:n_words: 1516968\n",
            "\n",
            "INFO:guidedlda:n_topics: 9\n",
            "\n",
            "INFO:guidedlda:n_iter: 100\n",
            "\n",
            "WARNING:guidedlda:all zero row in document-term matrix found\n",
            "\n",
            "INFO:guidedlda:<0> log likelihood: -17328185\n",
            "\n",
            "INFO:guidedlda:<20> log likelihood: -13862123\n",
            "\n",
            "INFO:guidedlda:<40> log likelihood: -13634349\n",
            "\n",
            "INFO:guidedlda:<60> log likelihood: -13548942\n",
            "\n",
            "INFO:guidedlda:<80> log likelihood: -13505784\n",
            "\n",
            "INFO:guidedlda:<99> log likelihood: -13472808\n",
            "\n",
            "INFO:gensim.topic_coherence.text_analysis:CorpusAccumulator accumulated stats from 1000 documents\n",
            "\n",
            "INFO:gensim.topic_coherence.text_analysis:CorpusAccumulator accumulated stats from 2000 documents\n",
            "\n",
            "INFO:gensim.topic_coherence.text_analysis:CorpusAccumulator accumulated stats from 3000 documents\n",
            "\n",
            "INFO:gensim.topic_coherence.text_analysis:CorpusAccumulator accumulated stats from 4000 documents\n",
            "\n",
            "INFO:gensim.topic_coherence.text_analysis:CorpusAccumulator accumulated stats from 5000 documents\n",
            "\n",
            "INFO:gensim.topic_coherence.text_analysis:CorpusAccumulator accumulated stats from 6000 documents\n",
            "\n",
            "INFO:gensim.topic_coherence.text_analysis:CorpusAccumulator accumulated stats from 7000 documents\n",
            "\n",
            "INFO:gensim.topic_coherence.text_analysis:CorpusAccumulator accumulated stats from 8000 documents\n",
            "\n",
            "INFO:gensim.topic_coherence.text_analysis:CorpusAccumulator accumulated stats from 9000 documents\n",
            "\n",
            "INFO:gensim.topic_coherence.text_analysis:CorpusAccumulator accumulated stats from 10000 documents\n",
            "\n"
          ],
          "name": "stderr"
        },
        {
          "output_type": "stream",
          "text": [
            "\r 20%|██        | 2/10 [01:03<04:16, 32.08s/trial, best loss: 1.7244443311999804]"
          ],
          "name": "stdout"
        },
        {
          "output_type": "stream",
          "text": [
            "INFO:hyperopt.tpe:build_posterior_wrapper took 0.003343 seconds\n",
            "\n",
            "INFO:hyperopt.tpe:TPE using 2/2 trials with best loss 1.724444\n",
            "\n",
            "INFO:guidedlda:n_documents: 10273\n",
            "\n",
            "INFO:guidedlda:vocab_size: 10811\n",
            "\n",
            "INFO:guidedlda:n_words: 1516968\n",
            "\n",
            "INFO:guidedlda:n_topics: 11\n",
            "\n",
            "INFO:guidedlda:n_iter: 100\n",
            "\n",
            "WARNING:guidedlda:all zero row in document-term matrix found\n",
            "\n",
            "INFO:guidedlda:<0> log likelihood: -17305081\n",
            "\n",
            "INFO:guidedlda:<20> log likelihood: -13649562\n",
            "\n",
            "INFO:guidedlda:<40> log likelihood: -13424796\n",
            "\n",
            "INFO:guidedlda:<60> log likelihood: -13342379\n",
            "\n",
            "INFO:guidedlda:<80> log likelihood: -13302093\n",
            "\n",
            "INFO:guidedlda:<99> log likelihood: -13273070\n",
            "\n",
            "INFO:gensim.topic_coherence.text_analysis:CorpusAccumulator accumulated stats from 1000 documents\n",
            "\n",
            "INFO:gensim.topic_coherence.text_analysis:CorpusAccumulator accumulated stats from 2000 documents\n",
            "\n",
            "INFO:gensim.topic_coherence.text_analysis:CorpusAccumulator accumulated stats from 3000 documents\n",
            "\n",
            "INFO:gensim.topic_coherence.text_analysis:CorpusAccumulator accumulated stats from 4000 documents\n",
            "\n",
            "INFO:gensim.topic_coherence.text_analysis:CorpusAccumulator accumulated stats from 5000 documents\n",
            "\n",
            "INFO:gensim.topic_coherence.text_analysis:CorpusAccumulator accumulated stats from 6000 documents\n",
            "\n",
            "INFO:gensim.topic_coherence.text_analysis:CorpusAccumulator accumulated stats from 7000 documents\n",
            "\n",
            "INFO:gensim.topic_coherence.text_analysis:CorpusAccumulator accumulated stats from 8000 documents\n",
            "\n",
            "INFO:gensim.topic_coherence.text_analysis:CorpusAccumulator accumulated stats from 9000 documents\n",
            "\n",
            "INFO:gensim.topic_coherence.text_analysis:CorpusAccumulator accumulated stats from 10000 documents\n",
            "\n"
          ],
          "name": "stderr"
        },
        {
          "output_type": "stream",
          "text": [
            "\r 30%|███       | 3/10 [01:34<03:43, 31.98s/trial, best loss: 1.7244443311999804]"
          ],
          "name": "stdout"
        },
        {
          "output_type": "stream",
          "text": [
            "INFO:hyperopt.tpe:build_posterior_wrapper took 0.002932 seconds\n",
            "\n",
            "INFO:hyperopt.tpe:TPE using 3/3 trials with best loss 1.724444\n",
            "\n",
            "INFO:guidedlda:n_documents: 10273\n",
            "\n",
            "INFO:guidedlda:vocab_size: 10811\n",
            "\n",
            "INFO:guidedlda:n_words: 1516968\n",
            "\n",
            "INFO:guidedlda:n_topics: 11\n",
            "\n",
            "INFO:guidedlda:n_iter: 100\n",
            "\n",
            "WARNING:guidedlda:all zero row in document-term matrix found\n",
            "\n",
            "INFO:guidedlda:<0> log likelihood: -17736300\n",
            "\n",
            "INFO:guidedlda:<20> log likelihood: -13805958\n",
            "\n",
            "INFO:guidedlda:<40> log likelihood: -13528041\n",
            "\n",
            "INFO:guidedlda:<60> log likelihood: -13397491\n",
            "\n",
            "INFO:guidedlda:<80> log likelihood: -13323112\n",
            "\n",
            "INFO:guidedlda:<99> log likelihood: -13274105\n",
            "\n",
            "INFO:gensim.topic_coherence.text_analysis:CorpusAccumulator accumulated stats from 1000 documents\n",
            "\n",
            "INFO:gensim.topic_coherence.text_analysis:CorpusAccumulator accumulated stats from 2000 documents\n",
            "\n",
            "INFO:gensim.topic_coherence.text_analysis:CorpusAccumulator accumulated stats from 3000 documents\n",
            "\n",
            "INFO:gensim.topic_coherence.text_analysis:CorpusAccumulator accumulated stats from 4000 documents\n",
            "\n",
            "INFO:gensim.topic_coherence.text_analysis:CorpusAccumulator accumulated stats from 5000 documents\n",
            "\n",
            "INFO:gensim.topic_coherence.text_analysis:CorpusAccumulator accumulated stats from 6000 documents\n",
            "\n",
            "INFO:gensim.topic_coherence.text_analysis:CorpusAccumulator accumulated stats from 7000 documents\n",
            "\n",
            "INFO:gensim.topic_coherence.text_analysis:CorpusAccumulator accumulated stats from 8000 documents\n",
            "\n",
            "INFO:gensim.topic_coherence.text_analysis:CorpusAccumulator accumulated stats from 9000 documents\n",
            "\n",
            "INFO:gensim.topic_coherence.text_analysis:CorpusAccumulator accumulated stats from 10000 documents\n",
            "\n"
          ],
          "name": "stderr"
        },
        {
          "output_type": "stream",
          "text": [
            "\r 40%|████      | 4/10 [02:05<03:09, 31.63s/trial, best loss: 1.662369690645506] "
          ],
          "name": "stdout"
        },
        {
          "output_type": "stream",
          "text": [
            "INFO:hyperopt.tpe:build_posterior_wrapper took 0.005500 seconds\n",
            "\n",
            "INFO:hyperopt.tpe:TPE using 4/4 trials with best loss 1.662370\n",
            "\n",
            "INFO:guidedlda:n_documents: 10273\n",
            "\n",
            "INFO:guidedlda:vocab_size: 10811\n",
            "\n",
            "INFO:guidedlda:n_words: 1516968\n",
            "\n",
            "INFO:guidedlda:n_topics: 11\n",
            "\n",
            "INFO:guidedlda:n_iter: 100\n",
            "\n",
            "WARNING:guidedlda:all zero row in document-term matrix found\n",
            "\n",
            "INFO:guidedlda:<0> log likelihood: -17752097\n",
            "\n",
            "INFO:guidedlda:<20> log likelihood: -13778697\n",
            "\n",
            "INFO:guidedlda:<40> log likelihood: -13549202\n",
            "\n",
            "INFO:guidedlda:<60> log likelihood: -13478319\n",
            "\n",
            "INFO:guidedlda:<80> log likelihood: -13438661\n",
            "\n",
            "INFO:guidedlda:<99> log likelihood: -13414561\n",
            "\n",
            "INFO:gensim.topic_coherence.text_analysis:CorpusAccumulator accumulated stats from 1000 documents\n",
            "\n",
            "INFO:gensim.topic_coherence.text_analysis:CorpusAccumulator accumulated stats from 2000 documents\n",
            "\n",
            "INFO:gensim.topic_coherence.text_analysis:CorpusAccumulator accumulated stats from 3000 documents\n",
            "\n",
            "INFO:gensim.topic_coherence.text_analysis:CorpusAccumulator accumulated stats from 4000 documents\n",
            "\n",
            "INFO:gensim.topic_coherence.text_analysis:CorpusAccumulator accumulated stats from 5000 documents\n",
            "\n",
            "INFO:gensim.topic_coherence.text_analysis:CorpusAccumulator accumulated stats from 6000 documents\n",
            "\n",
            "INFO:gensim.topic_coherence.text_analysis:CorpusAccumulator accumulated stats from 7000 documents\n",
            "\n",
            "INFO:gensim.topic_coherence.text_analysis:CorpusAccumulator accumulated stats from 8000 documents\n",
            "\n",
            "INFO:gensim.topic_coherence.text_analysis:CorpusAccumulator accumulated stats from 9000 documents\n",
            "\n",
            "INFO:gensim.topic_coherence.text_analysis:CorpusAccumulator accumulated stats from 10000 documents\n",
            "\n"
          ],
          "name": "stderr"
        },
        {
          "output_type": "stream",
          "text": [
            "\r 50%|█████     | 5/10 [02:37<02:38, 31.64s/trial, best loss: 1.662369690645506]"
          ],
          "name": "stdout"
        },
        {
          "output_type": "stream",
          "text": [
            "INFO:hyperopt.tpe:build_posterior_wrapper took 0.003202 seconds\n",
            "\n",
            "INFO:hyperopt.tpe:TPE using 5/5 trials with best loss 1.662370\n",
            "\n",
            "INFO:guidedlda:n_documents: 10273\n",
            "\n",
            "INFO:guidedlda:vocab_size: 10811\n",
            "\n",
            "INFO:guidedlda:n_words: 1516968\n",
            "\n",
            "INFO:guidedlda:n_topics: 14\n",
            "\n",
            "INFO:guidedlda:n_iter: 100\n",
            "\n",
            "WARNING:guidedlda:all zero row in document-term matrix found\n",
            "\n",
            "INFO:guidedlda:<0> log likelihood: -17813061\n",
            "\n",
            "INFO:guidedlda:<20> log likelihood: -13434644\n",
            "\n",
            "INFO:guidedlda:<40> log likelihood: -13138340\n",
            "\n",
            "INFO:guidedlda:<60> log likelihood: -13044695\n",
            "\n",
            "INFO:guidedlda:<80> log likelihood: -13007151\n",
            "\n",
            "INFO:guidedlda:<99> log likelihood: -12990113\n",
            "\n",
            "INFO:gensim.topic_coherence.text_analysis:CorpusAccumulator accumulated stats from 1000 documents\n",
            "\n",
            "INFO:gensim.topic_coherence.text_analysis:CorpusAccumulator accumulated stats from 2000 documents\n",
            "\n",
            "INFO:gensim.topic_coherence.text_analysis:CorpusAccumulator accumulated stats from 3000 documents\n",
            "\n",
            "INFO:gensim.topic_coherence.text_analysis:CorpusAccumulator accumulated stats from 4000 documents\n",
            "\n",
            "INFO:gensim.topic_coherence.text_analysis:CorpusAccumulator accumulated stats from 5000 documents\n",
            "\n",
            "INFO:gensim.topic_coherence.text_analysis:CorpusAccumulator accumulated stats from 6000 documents\n",
            "\n",
            "INFO:gensim.topic_coherence.text_analysis:CorpusAccumulator accumulated stats from 7000 documents\n",
            "\n",
            "INFO:gensim.topic_coherence.text_analysis:CorpusAccumulator accumulated stats from 8000 documents\n",
            "\n",
            "INFO:gensim.topic_coherence.text_analysis:CorpusAccumulator accumulated stats from 9000 documents\n",
            "\n",
            "INFO:gensim.topic_coherence.text_analysis:CorpusAccumulator accumulated stats from 10000 documents\n",
            "\n"
          ],
          "name": "stderr"
        },
        {
          "output_type": "stream",
          "text": [
            "\r 60%|██████    | 6/10 [03:09<02:07, 31.82s/trial, best loss: 1.662369690645506]"
          ],
          "name": "stdout"
        },
        {
          "output_type": "stream",
          "text": [
            "INFO:hyperopt.tpe:build_posterior_wrapper took 0.002885 seconds\n",
            "\n",
            "INFO:hyperopt.tpe:TPE using 6/6 trials with best loss 1.662370\n",
            "\n",
            "INFO:guidedlda:n_documents: 10273\n",
            "\n",
            "INFO:guidedlda:vocab_size: 10811\n",
            "\n",
            "INFO:guidedlda:n_words: 1516968\n",
            "\n",
            "INFO:guidedlda:n_topics: 10\n",
            "\n",
            "INFO:guidedlda:n_iter: 100\n",
            "\n",
            "WARNING:guidedlda:all zero row in document-term matrix found\n",
            "\n",
            "INFO:guidedlda:<0> log likelihood: -16998868\n",
            "\n",
            "INFO:guidedlda:<20> log likelihood: -13566246\n",
            "\n",
            "INFO:guidedlda:<40> log likelihood: -13342164\n",
            "\n",
            "INFO:guidedlda:<60> log likelihood: -13273918\n",
            "\n",
            "INFO:guidedlda:<80> log likelihood: -13233800\n",
            "\n",
            "INFO:guidedlda:<99> log likelihood: -13209954\n",
            "\n",
            "INFO:gensim.topic_coherence.text_analysis:CorpusAccumulator accumulated stats from 1000 documents\n",
            "\n",
            "INFO:gensim.topic_coherence.text_analysis:CorpusAccumulator accumulated stats from 2000 documents\n",
            "\n",
            "INFO:gensim.topic_coherence.text_analysis:CorpusAccumulator accumulated stats from 3000 documents\n",
            "\n",
            "INFO:gensim.topic_coherence.text_analysis:CorpusAccumulator accumulated stats from 4000 documents\n",
            "\n",
            "INFO:gensim.topic_coherence.text_analysis:CorpusAccumulator accumulated stats from 5000 documents\n",
            "\n",
            "INFO:gensim.topic_coherence.text_analysis:CorpusAccumulator accumulated stats from 6000 documents\n",
            "\n",
            "INFO:gensim.topic_coherence.text_analysis:CorpusAccumulator accumulated stats from 7000 documents\n",
            "\n",
            "INFO:gensim.topic_coherence.text_analysis:CorpusAccumulator accumulated stats from 8000 documents\n",
            "\n",
            "INFO:gensim.topic_coherence.text_analysis:CorpusAccumulator accumulated stats from 9000 documents\n",
            "\n",
            "INFO:gensim.topic_coherence.text_analysis:CorpusAccumulator accumulated stats from 10000 documents\n",
            "\n"
          ],
          "name": "stderr"
        },
        {
          "output_type": "stream",
          "text": [
            "\r 70%|███████   | 7/10 [03:40<01:34, 31.44s/trial, best loss: 1.662369690645506]"
          ],
          "name": "stdout"
        },
        {
          "output_type": "stream",
          "text": [
            "INFO:hyperopt.tpe:build_posterior_wrapper took 0.002873 seconds\n",
            "\n",
            "INFO:hyperopt.tpe:TPE using 7/7 trials with best loss 1.662370\n",
            "\n",
            "INFO:guidedlda:n_documents: 10273\n",
            "\n",
            "INFO:guidedlda:vocab_size: 10811\n",
            "\n",
            "INFO:guidedlda:n_words: 1516968\n",
            "\n",
            "INFO:guidedlda:n_topics: 9\n",
            "\n",
            "INFO:guidedlda:n_iter: 100\n",
            "\n",
            "WARNING:guidedlda:all zero row in document-term matrix found\n",
            "\n",
            "INFO:guidedlda:<0> log likelihood: -17019316\n",
            "\n",
            "INFO:guidedlda:<20> log likelihood: -13729303\n",
            "\n",
            "INFO:guidedlda:<40> log likelihood: -13473533\n",
            "\n",
            "INFO:guidedlda:<60> log likelihood: -13384055\n",
            "\n",
            "INFO:guidedlda:<80> log likelihood: -13338987\n",
            "\n",
            "INFO:guidedlda:<99> log likelihood: -13303193\n",
            "\n",
            "INFO:gensim.topic_coherence.text_analysis:CorpusAccumulator accumulated stats from 1000 documents\n",
            "\n",
            "INFO:gensim.topic_coherence.text_analysis:CorpusAccumulator accumulated stats from 2000 documents\n",
            "\n",
            "INFO:gensim.topic_coherence.text_analysis:CorpusAccumulator accumulated stats from 3000 documents\n",
            "\n",
            "INFO:gensim.topic_coherence.text_analysis:CorpusAccumulator accumulated stats from 4000 documents\n",
            "\n",
            "INFO:gensim.topic_coherence.text_analysis:CorpusAccumulator accumulated stats from 5000 documents\n",
            "\n",
            "INFO:gensim.topic_coherence.text_analysis:CorpusAccumulator accumulated stats from 6000 documents\n",
            "\n",
            "INFO:gensim.topic_coherence.text_analysis:CorpusAccumulator accumulated stats from 7000 documents\n",
            "\n",
            "INFO:gensim.topic_coherence.text_analysis:CorpusAccumulator accumulated stats from 8000 documents\n",
            "\n",
            "INFO:gensim.topic_coherence.text_analysis:CorpusAccumulator accumulated stats from 9000 documents\n",
            "\n",
            "INFO:gensim.topic_coherence.text_analysis:CorpusAccumulator accumulated stats from 10000 documents\n",
            "\n"
          ],
          "name": "stderr"
        },
        {
          "output_type": "stream",
          "text": [
            "\r 80%|████████  | 8/10 [04:10<01:02, 31.06s/trial, best loss: 1.662369690645506]"
          ],
          "name": "stdout"
        },
        {
          "output_type": "stream",
          "text": [
            "INFO:hyperopt.tpe:build_posterior_wrapper took 0.003000 seconds\n",
            "\n",
            "INFO:hyperopt.tpe:TPE using 8/8 trials with best loss 1.662370\n",
            "\n",
            "INFO:guidedlda:n_documents: 10273\n",
            "\n",
            "INFO:guidedlda:vocab_size: 10811\n",
            "\n",
            "INFO:guidedlda:n_words: 1516968\n",
            "\n",
            "INFO:guidedlda:n_topics: 10\n",
            "\n",
            "INFO:guidedlda:n_iter: 100\n",
            "\n",
            "WARNING:guidedlda:all zero row in document-term matrix found\n",
            "\n",
            "INFO:guidedlda:<0> log likelihood: -17242697\n",
            "\n",
            "INFO:guidedlda:<20> log likelihood: -13621466\n",
            "\n",
            "INFO:guidedlda:<40> log likelihood: -13322585\n",
            "\n",
            "INFO:guidedlda:<60> log likelihood: -13214591\n",
            "\n",
            "INFO:guidedlda:<80> log likelihood: -13156838\n",
            "\n",
            "INFO:guidedlda:<99> log likelihood: -13121686\n",
            "\n",
            "INFO:gensim.topic_coherence.text_analysis:CorpusAccumulator accumulated stats from 1000 documents\n",
            "\n",
            "INFO:gensim.topic_coherence.text_analysis:CorpusAccumulator accumulated stats from 2000 documents\n",
            "\n",
            "INFO:gensim.topic_coherence.text_analysis:CorpusAccumulator accumulated stats from 3000 documents\n",
            "\n",
            "INFO:gensim.topic_coherence.text_analysis:CorpusAccumulator accumulated stats from 4000 documents\n",
            "\n",
            "INFO:gensim.topic_coherence.text_analysis:CorpusAccumulator accumulated stats from 5000 documents\n",
            "\n",
            "INFO:gensim.topic_coherence.text_analysis:CorpusAccumulator accumulated stats from 6000 documents\n",
            "\n",
            "INFO:gensim.topic_coherence.text_analysis:CorpusAccumulator accumulated stats from 7000 documents\n",
            "\n",
            "INFO:gensim.topic_coherence.text_analysis:CorpusAccumulator accumulated stats from 8000 documents\n",
            "\n",
            "INFO:gensim.topic_coherence.text_analysis:CorpusAccumulator accumulated stats from 9000 documents\n",
            "\n",
            "INFO:gensim.topic_coherence.text_analysis:CorpusAccumulator accumulated stats from 10000 documents\n",
            "\n"
          ],
          "name": "stderr"
        },
        {
          "output_type": "stream",
          "text": [
            "\r 90%|█████████ | 9/10 [04:40<00:30, 30.70s/trial, best loss: 1.662369690645506]"
          ],
          "name": "stdout"
        },
        {
          "output_type": "stream",
          "text": [
            "INFO:hyperopt.tpe:build_posterior_wrapper took 0.003000 seconds\n",
            "\n",
            "INFO:hyperopt.tpe:TPE using 9/9 trials with best loss 1.662370\n",
            "\n",
            "INFO:guidedlda:n_documents: 10273\n",
            "\n",
            "INFO:guidedlda:vocab_size: 10811\n",
            "\n",
            "INFO:guidedlda:n_words: 1516968\n",
            "\n",
            "INFO:guidedlda:n_topics: 10\n",
            "\n",
            "INFO:guidedlda:n_iter: 100\n",
            "\n",
            "WARNING:guidedlda:all zero row in document-term matrix found\n",
            "\n",
            "INFO:guidedlda:<0> log likelihood: -17228648\n",
            "\n",
            "INFO:guidedlda:<20> log likelihood: -13684076\n",
            "\n",
            "INFO:guidedlda:<40> log likelihood: -13465765\n",
            "\n",
            "INFO:guidedlda:<60> log likelihood: -13391755\n",
            "\n",
            "INFO:guidedlda:<80> log likelihood: -13357251\n",
            "\n",
            "INFO:guidedlda:<99> log likelihood: -13331040\n",
            "\n",
            "INFO:gensim.topic_coherence.text_analysis:CorpusAccumulator accumulated stats from 1000 documents\n",
            "\n",
            "INFO:gensim.topic_coherence.text_analysis:CorpusAccumulator accumulated stats from 2000 documents\n",
            "\n",
            "INFO:gensim.topic_coherence.text_analysis:CorpusAccumulator accumulated stats from 3000 documents\n",
            "\n",
            "INFO:gensim.topic_coherence.text_analysis:CorpusAccumulator accumulated stats from 4000 documents\n",
            "\n",
            "INFO:gensim.topic_coherence.text_analysis:CorpusAccumulator accumulated stats from 5000 documents\n",
            "\n",
            "INFO:gensim.topic_coherence.text_analysis:CorpusAccumulator accumulated stats from 6000 documents\n",
            "\n",
            "INFO:gensim.topic_coherence.text_analysis:CorpusAccumulator accumulated stats from 7000 documents\n",
            "\n",
            "INFO:gensim.topic_coherence.text_analysis:CorpusAccumulator accumulated stats from 8000 documents\n",
            "\n",
            "INFO:gensim.topic_coherence.text_analysis:CorpusAccumulator accumulated stats from 9000 documents\n",
            "\n",
            "INFO:gensim.topic_coherence.text_analysis:CorpusAccumulator accumulated stats from 10000 documents\n",
            "\n"
          ],
          "name": "stderr"
        },
        {
          "output_type": "stream",
          "text": [
            "100%|██████████| 10/10 [05:11<00:00, 31.14s/trial, best loss: 1.662369690645506]\n",
            "{'alpha': 0.001, 'eta': 0.006}\n",
            "module 'topic_model_hyper_param_opt' has no attribute 'n_topics_values_list_guidedlda'\n"
          ],
          "name": "stdout"
        }
      ]
    },
    {
      "cell_type": "code",
      "metadata": {
        "id": "xggmiTei3XRc"
      },
      "source": [
        "import json\n",
        "\n",
        "# Save optimal params from Stage 1.\n",
        "with open('params_optimal_stage_1_guidedlda.json', 'w') as json_file:\n",
        "    json.dump(params_optimal_stage_1, json_file)\n",
        "json_file.close()"
      ],
      "execution_count": 15,
      "outputs": []
    },
    {
      "cell_type": "code",
      "metadata": {
        "id": "sCCMEsd53XTn",
        "colab": {
          "base_uri": "https://localhost:8080/"
        },
        "outputId": "3e2153cf-1641-4fe3-c79b-7605da5fbff8"
      },
      "source": [
        "# Read the params_optimal_stage_1 to optimize only number of topics in Stage 2.\n",
        "with open('params_optimal_stage_1_guidedlda.json') as json_file:\n",
        "    params_optimal_stage_1 = json.load(json_file)\n",
        "json_file.close()\n",
        "\n",
        "print(params_optimal_stage_1)"
      ],
      "execution_count": 16,
      "outputs": [
        {
          "output_type": "stream",
          "text": [
            "{'alpha': 0.001, 'eta': 0.006}\n"
          ],
          "name": "stdout"
        }
      ]
    },
    {
      "cell_type": "code",
      "metadata": {
        "id": "SFYUR4KI3XVk",
        "colab": {
          "base_uri": "https://localhost:8080/"
        },
        "outputId": "98e0d81b-ae58-42a3-a005-755e9ed58d93"
      },
      "source": [
        "from topic_model_hyper_param_opt import stage_2_optimization_guidedlda\n",
        "from topic_model_hyper_param_opt import trails_of_hyper_opt_to_dataframe_guidedlda\n",
        "\n",
        "# Optimize only number of topics with fixed optimal params from Stage 1.\n",
        "optimal_params_result, trials_stage_2 = stage_2_optimization_guidedlda(\n",
        "    data_vect=data_vect,\n",
        "    seed_topics=seed_topics,\n",
        "    dictionary=dictionary,\n",
        "    feature_names=feature_names,\n",
        "    corpus=corpus,\n",
        "    param_dict={**params_optimal_stage_1}, # add **params_optimal_stage_1 in deploy\n",
        "    metric_to_optimize='coherence_consistent',\n",
        "    stage_2_params={\n",
        "        'n_topics_min': 8,\n",
        "        'n_topics_max': 20,\n",
        "        'n_iter_param': 100,\n",
        "        'refresh_param': 20,\n",
        "        'seed_confidence': 0.15,\n",
        "        'max_eval_param': 13,\n",
        "        'timeout_param': 86400, \n",
        "    },\n",
        "    random_seed=random_seed\n",
        ")\n",
        "\n",
        "trials_stage_2_df = trails_of_hyper_opt_to_dataframe_guidedlda(trials_stage_2)\n",
        "trials_stage_2_df.to_csv('trials_stage_2_df_guidedlda.csv')"
      ],
      "execution_count": 21,
      "outputs": [
        {
          "output_type": "stream",
          "text": [
            "\r  0%|          | 0/13 [00:00<?, ?trial/s, best loss=?]"
          ],
          "name": "stdout"
        },
        {
          "output_type": "stream",
          "text": [
            "INFO:hyperopt.tpe:build_posterior_wrapper took 0.001320 seconds\n",
            "\n",
            "INFO:hyperopt.tpe:TPE using 0 trials\n",
            "\n",
            "INFO:guidedlda:n_documents: 10273\n",
            "\n",
            "INFO:guidedlda:vocab_size: 10811\n",
            "\n",
            "INFO:guidedlda:n_words: 1516968\n",
            "\n",
            "INFO:guidedlda:n_topics: 13\n",
            "\n",
            "INFO:guidedlda:n_iter: 100\n",
            "\n",
            "WARNING:guidedlda:all zero row in document-term matrix found\n",
            "\n",
            "INFO:guidedlda:<0> log likelihood: -18202728\n",
            "\n",
            "INFO:guidedlda:<20> log likelihood: -13850906\n",
            "\n",
            "INFO:guidedlda:<40> log likelihood: -13565302\n",
            "\n",
            "INFO:guidedlda:<60> log likelihood: -13435809\n",
            "\n",
            "INFO:guidedlda:<80> log likelihood: -13357509\n",
            "\n",
            "INFO:guidedlda:<99> log likelihood: -13305338\n",
            "\n",
            "INFO:gensim.topic_coherence.text_analysis:CorpusAccumulator accumulated stats from 1000 documents\n",
            "\n",
            "INFO:gensim.topic_coherence.text_analysis:CorpusAccumulator accumulated stats from 2000 documents\n",
            "\n",
            "INFO:gensim.topic_coherence.text_analysis:CorpusAccumulator accumulated stats from 3000 documents\n",
            "\n",
            "INFO:gensim.topic_coherence.text_analysis:CorpusAccumulator accumulated stats from 4000 documents\n",
            "\n",
            "INFO:gensim.topic_coherence.text_analysis:CorpusAccumulator accumulated stats from 5000 documents\n",
            "\n",
            "INFO:gensim.topic_coherence.text_analysis:CorpusAccumulator accumulated stats from 6000 documents\n",
            "\n",
            "INFO:gensim.topic_coherence.text_analysis:CorpusAccumulator accumulated stats from 7000 documents\n",
            "\n",
            "INFO:gensim.topic_coherence.text_analysis:CorpusAccumulator accumulated stats from 8000 documents\n",
            "\n",
            "INFO:gensim.topic_coherence.text_analysis:CorpusAccumulator accumulated stats from 9000 documents\n",
            "\n",
            "INFO:gensim.topic_coherence.text_analysis:CorpusAccumulator accumulated stats from 10000 documents\n",
            "\n"
          ],
          "name": "stderr"
        },
        {
          "output_type": "stream",
          "text": [
            "\r  8%|▊         | 1/13 [00:32<06:26, 32.24s/trial, best loss: 1.6507417775947175]"
          ],
          "name": "stdout"
        },
        {
          "output_type": "stream",
          "text": [
            "INFO:hyperopt.tpe:build_posterior_wrapper took 0.000864 seconds\n",
            "\n",
            "INFO:hyperopt.tpe:TPE using 1/1 trials with best loss 1.650742\n",
            "\n",
            "INFO:guidedlda:n_documents: 10273\n",
            "\n",
            "INFO:guidedlda:vocab_size: 10811\n",
            "\n",
            "INFO:guidedlda:n_words: 1516968\n",
            "\n",
            "INFO:guidedlda:n_topics: 16\n",
            "\n",
            "INFO:guidedlda:n_iter: 100\n",
            "\n",
            "WARNING:guidedlda:all zero row in document-term matrix found\n",
            "\n",
            "INFO:guidedlda:<0> log likelihood: -18822162\n",
            "\n",
            "INFO:guidedlda:<20> log likelihood: -13944043\n",
            "\n",
            "INFO:guidedlda:<40> log likelihood: -13663619\n",
            "\n",
            "INFO:guidedlda:<60> log likelihood: -13533272\n",
            "\n",
            "INFO:guidedlda:<80> log likelihood: -13455646\n",
            "\n",
            "INFO:guidedlda:<99> log likelihood: -13404734\n",
            "\n",
            "INFO:gensim.topic_coherence.text_analysis:CorpusAccumulator accumulated stats from 1000 documents\n",
            "\n",
            "INFO:gensim.topic_coherence.text_analysis:CorpusAccumulator accumulated stats from 2000 documents\n",
            "\n",
            "INFO:gensim.topic_coherence.text_analysis:CorpusAccumulator accumulated stats from 3000 documents\n",
            "\n",
            "INFO:gensim.topic_coherence.text_analysis:CorpusAccumulator accumulated stats from 4000 documents\n",
            "\n",
            "INFO:gensim.topic_coherence.text_analysis:CorpusAccumulator accumulated stats from 5000 documents\n",
            "\n",
            "INFO:gensim.topic_coherence.text_analysis:CorpusAccumulator accumulated stats from 6000 documents\n",
            "\n",
            "INFO:gensim.topic_coherence.text_analysis:CorpusAccumulator accumulated stats from 7000 documents\n",
            "\n",
            "INFO:gensim.topic_coherence.text_analysis:CorpusAccumulator accumulated stats from 8000 documents\n",
            "\n",
            "INFO:gensim.topic_coherence.text_analysis:CorpusAccumulator accumulated stats from 9000 documents\n",
            "\n",
            "INFO:gensim.topic_coherence.text_analysis:CorpusAccumulator accumulated stats from 10000 documents\n",
            "\n"
          ],
          "name": "stderr"
        },
        {
          "output_type": "stream",
          "text": [
            "\r 15%|█▌        | 2/13 [01:06<06:00, 32.76s/trial, best loss: 1.6507417775947175]"
          ],
          "name": "stdout"
        },
        {
          "output_type": "stream",
          "text": [
            "INFO:hyperopt.tpe:build_posterior_wrapper took 0.000571 seconds\n",
            "\n",
            "INFO:hyperopt.tpe:TPE using 2/2 trials with best loss 1.650742\n",
            "\n",
            "INFO:guidedlda:n_documents: 10273\n",
            "\n",
            "INFO:guidedlda:vocab_size: 10811\n",
            "\n",
            "INFO:guidedlda:n_words: 1516968\n",
            "\n",
            "INFO:guidedlda:n_topics: 12\n",
            "\n",
            "INFO:guidedlda:n_iter: 100\n",
            "\n",
            "WARNING:guidedlda:all zero row in document-term matrix found\n",
            "\n",
            "INFO:guidedlda:<0> log likelihood: -17975738\n",
            "\n",
            "INFO:guidedlda:<20> log likelihood: -13834025\n",
            "\n",
            "INFO:guidedlda:<40> log likelihood: -13555821\n",
            "\n",
            "INFO:guidedlda:<60> log likelihood: -13433741\n",
            "\n",
            "INFO:guidedlda:<80> log likelihood: -13362649\n",
            "\n",
            "INFO:guidedlda:<99> log likelihood: -13309273\n",
            "\n",
            "INFO:gensim.topic_coherence.text_analysis:CorpusAccumulator accumulated stats from 1000 documents\n",
            "\n",
            "INFO:gensim.topic_coherence.text_analysis:CorpusAccumulator accumulated stats from 2000 documents\n",
            "\n",
            "INFO:gensim.topic_coherence.text_analysis:CorpusAccumulator accumulated stats from 3000 documents\n",
            "\n",
            "INFO:gensim.topic_coherence.text_analysis:CorpusAccumulator accumulated stats from 4000 documents\n",
            "\n",
            "INFO:gensim.topic_coherence.text_analysis:CorpusAccumulator accumulated stats from 5000 documents\n",
            "\n",
            "INFO:gensim.topic_coherence.text_analysis:CorpusAccumulator accumulated stats from 6000 documents\n",
            "\n",
            "INFO:gensim.topic_coherence.text_analysis:CorpusAccumulator accumulated stats from 7000 documents\n",
            "\n",
            "INFO:gensim.topic_coherence.text_analysis:CorpusAccumulator accumulated stats from 8000 documents\n",
            "\n",
            "INFO:gensim.topic_coherence.text_analysis:CorpusAccumulator accumulated stats from 9000 documents\n",
            "\n",
            "INFO:gensim.topic_coherence.text_analysis:CorpusAccumulator accumulated stats from 10000 documents\n",
            "\n"
          ],
          "name": "stderr"
        },
        {
          "output_type": "stream",
          "text": [
            "\r 23%|██▎       | 3/13 [01:37<05:23, 32.35s/trial, best loss: 1.6026590673320396]"
          ],
          "name": "stdout"
        },
        {
          "output_type": "stream",
          "text": [
            "INFO:hyperopt.tpe:build_posterior_wrapper took 0.000900 seconds\n",
            "\n",
            "INFO:hyperopt.tpe:TPE using 3/3 trials with best loss 1.602659\n",
            "\n",
            "INFO:guidedlda:n_documents: 10273\n",
            "\n",
            "INFO:guidedlda:vocab_size: 10811\n",
            "\n",
            "INFO:guidedlda:n_words: 1516968\n",
            "\n",
            "INFO:guidedlda:n_topics: 17\n",
            "\n",
            "INFO:guidedlda:n_iter: 100\n",
            "\n",
            "WARNING:guidedlda:all zero row in document-term matrix found\n",
            "\n",
            "INFO:guidedlda:<0> log likelihood: -19013374\n",
            "\n",
            "INFO:guidedlda:<20> log likelihood: -13975919\n",
            "\n",
            "INFO:guidedlda:<40> log likelihood: -13661170\n",
            "\n",
            "INFO:guidedlda:<60> log likelihood: -13527363\n",
            "\n",
            "INFO:guidedlda:<80> log likelihood: -13444137\n",
            "\n",
            "INFO:guidedlda:<99> log likelihood: -13384668\n",
            "\n",
            "INFO:gensim.topic_coherence.text_analysis:CorpusAccumulator accumulated stats from 1000 documents\n",
            "\n",
            "INFO:gensim.topic_coherence.text_analysis:CorpusAccumulator accumulated stats from 2000 documents\n",
            "\n",
            "INFO:gensim.topic_coherence.text_analysis:CorpusAccumulator accumulated stats from 3000 documents\n",
            "\n",
            "INFO:gensim.topic_coherence.text_analysis:CorpusAccumulator accumulated stats from 4000 documents\n",
            "\n",
            "INFO:gensim.topic_coherence.text_analysis:CorpusAccumulator accumulated stats from 5000 documents\n",
            "\n",
            "INFO:gensim.topic_coherence.text_analysis:CorpusAccumulator accumulated stats from 6000 documents\n",
            "\n",
            "INFO:gensim.topic_coherence.text_analysis:CorpusAccumulator accumulated stats from 7000 documents\n",
            "\n",
            "INFO:gensim.topic_coherence.text_analysis:CorpusAccumulator accumulated stats from 8000 documents\n",
            "\n",
            "INFO:gensim.topic_coherence.text_analysis:CorpusAccumulator accumulated stats from 9000 documents\n",
            "\n",
            "INFO:gensim.topic_coherence.text_analysis:CorpusAccumulator accumulated stats from 10000 documents\n",
            "\n"
          ],
          "name": "stderr"
        },
        {
          "output_type": "stream",
          "text": [
            "\r 31%|███       | 4/13 [02:12<04:57, 33.03s/trial, best loss: 1.6026590673320396]"
          ],
          "name": "stdout"
        },
        {
          "output_type": "stream",
          "text": [
            "INFO:hyperopt.tpe:build_posterior_wrapper took 0.000556 seconds\n",
            "\n",
            "INFO:hyperopt.tpe:TPE using 4/4 trials with best loss 1.602659\n",
            "\n",
            "INFO:guidedlda:n_documents: 10273\n",
            "\n",
            "INFO:guidedlda:vocab_size: 10811\n",
            "\n",
            "INFO:guidedlda:n_words: 1516968\n",
            "\n",
            "INFO:guidedlda:n_topics: 16\n",
            "\n",
            "INFO:guidedlda:n_iter: 100\n",
            "\n",
            "WARNING:guidedlda:all zero row in document-term matrix found\n",
            "\n",
            "INFO:guidedlda:<0> log likelihood: -18822162\n",
            "\n",
            "INFO:guidedlda:<20> log likelihood: -13944043\n",
            "\n",
            "INFO:guidedlda:<40> log likelihood: -13663619\n",
            "\n",
            "INFO:guidedlda:<60> log likelihood: -13533272\n",
            "\n",
            "INFO:guidedlda:<80> log likelihood: -13455646\n",
            "\n",
            "INFO:guidedlda:<99> log likelihood: -13404734\n",
            "\n",
            "INFO:gensim.topic_coherence.text_analysis:CorpusAccumulator accumulated stats from 1000 documents\n",
            "\n",
            "INFO:gensim.topic_coherence.text_analysis:CorpusAccumulator accumulated stats from 2000 documents\n",
            "\n",
            "INFO:gensim.topic_coherence.text_analysis:CorpusAccumulator accumulated stats from 3000 documents\n",
            "\n",
            "INFO:gensim.topic_coherence.text_analysis:CorpusAccumulator accumulated stats from 4000 documents\n",
            "\n",
            "INFO:gensim.topic_coherence.text_analysis:CorpusAccumulator accumulated stats from 5000 documents\n",
            "\n",
            "INFO:gensim.topic_coherence.text_analysis:CorpusAccumulator accumulated stats from 6000 documents\n",
            "\n",
            "INFO:gensim.topic_coherence.text_analysis:CorpusAccumulator accumulated stats from 7000 documents\n",
            "\n",
            "INFO:gensim.topic_coherence.text_analysis:CorpusAccumulator accumulated stats from 8000 documents\n",
            "\n",
            "INFO:gensim.topic_coherence.text_analysis:CorpusAccumulator accumulated stats from 9000 documents\n",
            "\n",
            "INFO:gensim.topic_coherence.text_analysis:CorpusAccumulator accumulated stats from 10000 documents\n",
            "\n"
          ],
          "name": "stderr"
        },
        {
          "output_type": "stream",
          "text": [
            "\r 38%|███▊      | 5/13 [02:46<04:27, 33.38s/trial, best loss: 1.6026590673320396]"
          ],
          "name": "stdout"
        },
        {
          "output_type": "stream",
          "text": [
            "INFO:hyperopt.tpe:build_posterior_wrapper took 0.000525 seconds\n",
            "\n",
            "INFO:hyperopt.tpe:TPE using 5/5 trials with best loss 1.602659\n",
            "\n",
            "INFO:guidedlda:n_documents: 10273\n",
            "\n",
            "INFO:guidedlda:vocab_size: 10811\n",
            "\n",
            "INFO:guidedlda:n_words: 1516968\n",
            "\n",
            "INFO:guidedlda:n_topics: 10\n",
            "\n",
            "INFO:guidedlda:n_iter: 100\n",
            "\n",
            "WARNING:guidedlda:all zero row in document-term matrix found\n",
            "\n",
            "INFO:guidedlda:<0> log likelihood: -17482622\n",
            "\n",
            "INFO:guidedlda:<20> log likelihood: -13791050\n",
            "\n",
            "INFO:guidedlda:<40> log likelihood: -13492812\n",
            "\n",
            "INFO:guidedlda:<60> log likelihood: -13366327\n",
            "\n",
            "INFO:guidedlda:<80> log likelihood: -13293302\n",
            "\n",
            "INFO:guidedlda:<99> log likelihood: -13245902\n",
            "\n",
            "INFO:gensim.topic_coherence.text_analysis:CorpusAccumulator accumulated stats from 1000 documents\n",
            "\n",
            "INFO:gensim.topic_coherence.text_analysis:CorpusAccumulator accumulated stats from 2000 documents\n",
            "\n",
            "INFO:gensim.topic_coherence.text_analysis:CorpusAccumulator accumulated stats from 3000 documents\n",
            "\n",
            "INFO:gensim.topic_coherence.text_analysis:CorpusAccumulator accumulated stats from 4000 documents\n",
            "\n",
            "INFO:gensim.topic_coherence.text_analysis:CorpusAccumulator accumulated stats from 5000 documents\n",
            "\n",
            "INFO:gensim.topic_coherence.text_analysis:CorpusAccumulator accumulated stats from 6000 documents\n",
            "\n",
            "INFO:gensim.topic_coherence.text_analysis:CorpusAccumulator accumulated stats from 7000 documents\n",
            "\n",
            "INFO:gensim.topic_coherence.text_analysis:CorpusAccumulator accumulated stats from 8000 documents\n",
            "\n",
            "INFO:gensim.topic_coherence.text_analysis:CorpusAccumulator accumulated stats from 9000 documents\n",
            "\n",
            "INFO:gensim.topic_coherence.text_analysis:CorpusAccumulator accumulated stats from 10000 documents\n",
            "\n"
          ],
          "name": "stderr"
        },
        {
          "output_type": "stream",
          "text": [
            "\r 46%|████▌     | 6/13 [03:16<03:46, 32.38s/trial, best loss: 1.6026590673320396]"
          ],
          "name": "stdout"
        },
        {
          "output_type": "stream",
          "text": [
            "INFO:hyperopt.tpe:build_posterior_wrapper took 0.000544 seconds\n",
            "\n",
            "INFO:hyperopt.tpe:TPE using 6/6 trials with best loss 1.602659\n",
            "\n",
            "INFO:guidedlda:n_documents: 10273\n",
            "\n",
            "INFO:guidedlda:vocab_size: 10811\n",
            "\n",
            "INFO:guidedlda:n_words: 1516968\n",
            "\n",
            "INFO:guidedlda:n_topics: 11\n",
            "\n",
            "INFO:guidedlda:n_iter: 100\n",
            "\n",
            "WARNING:guidedlda:all zero row in document-term matrix found\n",
            "\n",
            "INFO:guidedlda:<0> log likelihood: -17736300\n",
            "\n",
            "INFO:guidedlda:<20> log likelihood: -13805958\n",
            "\n",
            "INFO:guidedlda:<40> log likelihood: -13528041\n",
            "\n",
            "INFO:guidedlda:<60> log likelihood: -13397491\n",
            "\n",
            "INFO:guidedlda:<80> log likelihood: -13323112\n",
            "\n",
            "INFO:guidedlda:<99> log likelihood: -13274105\n",
            "\n",
            "INFO:gensim.topic_coherence.text_analysis:CorpusAccumulator accumulated stats from 1000 documents\n",
            "\n",
            "INFO:gensim.topic_coherence.text_analysis:CorpusAccumulator accumulated stats from 2000 documents\n",
            "\n",
            "INFO:gensim.topic_coherence.text_analysis:CorpusAccumulator accumulated stats from 3000 documents\n",
            "\n",
            "INFO:gensim.topic_coherence.text_analysis:CorpusAccumulator accumulated stats from 4000 documents\n",
            "\n",
            "INFO:gensim.topic_coherence.text_analysis:CorpusAccumulator accumulated stats from 5000 documents\n",
            "\n",
            "INFO:gensim.topic_coherence.text_analysis:CorpusAccumulator accumulated stats from 6000 documents\n",
            "\n",
            "INFO:gensim.topic_coherence.text_analysis:CorpusAccumulator accumulated stats from 7000 documents\n",
            "\n",
            "INFO:gensim.topic_coherence.text_analysis:CorpusAccumulator accumulated stats from 8000 documents\n",
            "\n",
            "INFO:gensim.topic_coherence.text_analysis:CorpusAccumulator accumulated stats from 9000 documents\n",
            "\n",
            "INFO:gensim.topic_coherence.text_analysis:CorpusAccumulator accumulated stats from 10000 documents\n",
            "\n"
          ],
          "name": "stderr"
        },
        {
          "output_type": "stream",
          "text": [
            "\r 54%|█████▍    | 7/13 [03:47<03:11, 31.89s/trial, best loss: 1.6026590673320396]"
          ],
          "name": "stdout"
        },
        {
          "output_type": "stream",
          "text": [
            "INFO:hyperopt.tpe:build_posterior_wrapper took 0.004824 seconds\n",
            "\n",
            "INFO:hyperopt.tpe:TPE using 7/7 trials with best loss 1.602659\n",
            "\n",
            "INFO:guidedlda:n_documents: 10273\n",
            "\n",
            "INFO:guidedlda:vocab_size: 10811\n",
            "\n",
            "INFO:guidedlda:n_words: 1516968\n",
            "\n",
            "INFO:guidedlda:n_topics: 18\n",
            "\n",
            "INFO:guidedlda:n_iter: 100\n",
            "\n",
            "WARNING:guidedlda:all zero row in document-term matrix found\n",
            "\n",
            "INFO:guidedlda:<0> log likelihood: -19196360\n",
            "\n",
            "INFO:guidedlda:<20> log likelihood: -13978146\n",
            "\n",
            "INFO:guidedlda:<40> log likelihood: -13681576\n",
            "\n",
            "INFO:guidedlda:<60> log likelihood: -13547923\n",
            "\n",
            "INFO:guidedlda:<80> log likelihood: -13467538\n",
            "\n",
            "INFO:guidedlda:<99> log likelihood: -13410739\n",
            "\n",
            "INFO:gensim.topic_coherence.text_analysis:CorpusAccumulator accumulated stats from 1000 documents\n",
            "\n",
            "INFO:gensim.topic_coherence.text_analysis:CorpusAccumulator accumulated stats from 2000 documents\n",
            "\n",
            "INFO:gensim.topic_coherence.text_analysis:CorpusAccumulator accumulated stats from 3000 documents\n",
            "\n",
            "INFO:gensim.topic_coherence.text_analysis:CorpusAccumulator accumulated stats from 4000 documents\n",
            "\n",
            "INFO:gensim.topic_coherence.text_analysis:CorpusAccumulator accumulated stats from 5000 documents\n",
            "\n",
            "INFO:gensim.topic_coherence.text_analysis:CorpusAccumulator accumulated stats from 6000 documents\n",
            "\n",
            "INFO:gensim.topic_coherence.text_analysis:CorpusAccumulator accumulated stats from 7000 documents\n",
            "\n",
            "INFO:gensim.topic_coherence.text_analysis:CorpusAccumulator accumulated stats from 8000 documents\n",
            "\n",
            "INFO:gensim.topic_coherence.text_analysis:CorpusAccumulator accumulated stats from 9000 documents\n",
            "\n",
            "INFO:gensim.topic_coherence.text_analysis:CorpusAccumulator accumulated stats from 10000 documents\n",
            "\n"
          ],
          "name": "stderr"
        },
        {
          "output_type": "stream",
          "text": [
            "\r 62%|██████▏   | 8/13 [04:22<02:44, 32.87s/trial, best loss: 1.6026590673320396]"
          ],
          "name": "stdout"
        },
        {
          "output_type": "stream",
          "text": [
            "INFO:hyperopt.tpe:build_posterior_wrapper took 0.000544 seconds\n",
            "\n",
            "INFO:hyperopt.tpe:TPE using 8/8 trials with best loss 1.602659\n",
            "\n",
            "INFO:guidedlda:n_documents: 10273\n",
            "\n",
            "INFO:guidedlda:vocab_size: 10811\n",
            "\n",
            "INFO:guidedlda:n_words: 1516968\n",
            "\n",
            "INFO:guidedlda:n_topics: 19\n",
            "\n",
            "INFO:guidedlda:n_iter: 100\n",
            "\n",
            "WARNING:guidedlda:all zero row in document-term matrix found\n",
            "\n",
            "INFO:guidedlda:<0> log likelihood: -19374294\n",
            "\n",
            "INFO:guidedlda:<20> log likelihood: -14004770\n",
            "\n",
            "INFO:guidedlda:<40> log likelihood: -13703393\n",
            "\n",
            "INFO:guidedlda:<60> log likelihood: -13569014\n",
            "\n",
            "INFO:guidedlda:<80> log likelihood: -13482949\n",
            "\n",
            "INFO:guidedlda:<99> log likelihood: -13426070\n",
            "\n",
            "INFO:gensim.topic_coherence.text_analysis:CorpusAccumulator accumulated stats from 1000 documents\n",
            "\n",
            "INFO:gensim.topic_coherence.text_analysis:CorpusAccumulator accumulated stats from 2000 documents\n",
            "\n",
            "INFO:gensim.topic_coherence.text_analysis:CorpusAccumulator accumulated stats from 3000 documents\n",
            "\n",
            "INFO:gensim.topic_coherence.text_analysis:CorpusAccumulator accumulated stats from 4000 documents\n",
            "\n",
            "INFO:gensim.topic_coherence.text_analysis:CorpusAccumulator accumulated stats from 5000 documents\n",
            "\n",
            "INFO:gensim.topic_coherence.text_analysis:CorpusAccumulator accumulated stats from 6000 documents\n",
            "\n",
            "INFO:gensim.topic_coherence.text_analysis:CorpusAccumulator accumulated stats from 7000 documents\n",
            "\n",
            "INFO:gensim.topic_coherence.text_analysis:CorpusAccumulator accumulated stats from 8000 documents\n",
            "\n",
            "INFO:gensim.topic_coherence.text_analysis:CorpusAccumulator accumulated stats from 9000 documents\n",
            "\n",
            "INFO:gensim.topic_coherence.text_analysis:CorpusAccumulator accumulated stats from 10000 documents\n",
            "\n"
          ],
          "name": "stderr"
        },
        {
          "output_type": "stream",
          "text": [
            "\r 69%|██████▉   | 9/13 [04:58<02:15, 33.78s/trial, best loss: 1.6026590673320396]"
          ],
          "name": "stdout"
        },
        {
          "output_type": "stream",
          "text": [
            "INFO:hyperopt.tpe:build_posterior_wrapper took 0.000878 seconds\n",
            "\n",
            "INFO:hyperopt.tpe:TPE using 9/9 trials with best loss 1.602659\n",
            "\n",
            "INFO:guidedlda:n_documents: 10273\n",
            "\n",
            "INFO:guidedlda:vocab_size: 10811\n",
            "\n",
            "INFO:guidedlda:n_words: 1516968\n",
            "\n",
            "INFO:guidedlda:n_topics: 9\n",
            "\n",
            "INFO:guidedlda:n_iter: 100\n",
            "\n",
            "WARNING:guidedlda:all zero row in document-term matrix found\n",
            "\n",
            "INFO:guidedlda:<0> log likelihood: -17211545\n",
            "\n",
            "INFO:guidedlda:<20> log likelihood: -13755784\n",
            "\n",
            "INFO:guidedlda:<40> log likelihood: -13449509\n",
            "\n",
            "INFO:guidedlda:<60> log likelihood: -13326037\n",
            "\n",
            "INFO:guidedlda:<80> log likelihood: -13258929\n",
            "\n",
            "INFO:guidedlda:<99> log likelihood: -13217936\n",
            "\n",
            "INFO:gensim.topic_coherence.text_analysis:CorpusAccumulator accumulated stats from 1000 documents\n",
            "\n",
            "INFO:gensim.topic_coherence.text_analysis:CorpusAccumulator accumulated stats from 2000 documents\n",
            "\n",
            "INFO:gensim.topic_coherence.text_analysis:CorpusAccumulator accumulated stats from 3000 documents\n",
            "\n",
            "INFO:gensim.topic_coherence.text_analysis:CorpusAccumulator accumulated stats from 4000 documents\n",
            "\n",
            "INFO:gensim.topic_coherence.text_analysis:CorpusAccumulator accumulated stats from 5000 documents\n",
            "\n",
            "INFO:gensim.topic_coherence.text_analysis:CorpusAccumulator accumulated stats from 6000 documents\n",
            "\n",
            "INFO:gensim.topic_coherence.text_analysis:CorpusAccumulator accumulated stats from 7000 documents\n",
            "\n",
            "INFO:gensim.topic_coherence.text_analysis:CorpusAccumulator accumulated stats from 8000 documents\n",
            "\n",
            "INFO:gensim.topic_coherence.text_analysis:CorpusAccumulator accumulated stats from 9000 documents\n",
            "\n",
            "INFO:gensim.topic_coherence.text_analysis:CorpusAccumulator accumulated stats from 10000 documents\n",
            "\n"
          ],
          "name": "stderr"
        },
        {
          "output_type": "stream",
          "text": [
            "\r 77%|███████▋  | 10/13 [05:27<01:37, 32.52s/trial, best loss: 1.6026590673320396]"
          ],
          "name": "stdout"
        },
        {
          "output_type": "stream",
          "text": [
            "INFO:hyperopt.tpe:build_posterior_wrapper took 0.000524 seconds\n",
            "\n",
            "INFO:hyperopt.tpe:TPE using 10/10 trials with best loss 1.602659\n",
            "\n",
            "INFO:guidedlda:n_documents: 10273\n",
            "\n",
            "INFO:guidedlda:vocab_size: 10811\n",
            "\n",
            "INFO:guidedlda:n_words: 1516968\n",
            "\n",
            "INFO:guidedlda:n_topics: 9\n",
            "\n",
            "INFO:guidedlda:n_iter: 100\n",
            "\n",
            "WARNING:guidedlda:all zero row in document-term matrix found\n",
            "\n",
            "INFO:guidedlda:<0> log likelihood: -17211545\n",
            "\n",
            "INFO:guidedlda:<20> log likelihood: -13755784\n",
            "\n",
            "INFO:guidedlda:<40> log likelihood: -13449509\n",
            "\n",
            "INFO:guidedlda:<60> log likelihood: -13326037\n",
            "\n",
            "INFO:guidedlda:<80> log likelihood: -13258929\n",
            "\n",
            "INFO:guidedlda:<99> log likelihood: -13217936\n",
            "\n",
            "INFO:gensim.topic_coherence.text_analysis:CorpusAccumulator accumulated stats from 1000 documents\n",
            "\n",
            "INFO:gensim.topic_coherence.text_analysis:CorpusAccumulator accumulated stats from 2000 documents\n",
            "\n",
            "INFO:gensim.topic_coherence.text_analysis:CorpusAccumulator accumulated stats from 3000 documents\n",
            "\n",
            "INFO:gensim.topic_coherence.text_analysis:CorpusAccumulator accumulated stats from 4000 documents\n",
            "\n",
            "INFO:gensim.topic_coherence.text_analysis:CorpusAccumulator accumulated stats from 5000 documents\n",
            "\n",
            "INFO:gensim.topic_coherence.text_analysis:CorpusAccumulator accumulated stats from 6000 documents\n",
            "\n",
            "INFO:gensim.topic_coherence.text_analysis:CorpusAccumulator accumulated stats from 7000 documents\n",
            "\n",
            "INFO:gensim.topic_coherence.text_analysis:CorpusAccumulator accumulated stats from 8000 documents\n",
            "\n",
            "INFO:gensim.topic_coherence.text_analysis:CorpusAccumulator accumulated stats from 9000 documents\n",
            "\n",
            "INFO:gensim.topic_coherence.text_analysis:CorpusAccumulator accumulated stats from 10000 documents\n",
            "\n"
          ],
          "name": "stderr"
        },
        {
          "output_type": "stream",
          "text": [
            "\r 85%|████████▍ | 11/13 [05:57<01:03, 31.65s/trial, best loss: 1.6026590673320396]"
          ],
          "name": "stdout"
        },
        {
          "output_type": "stream",
          "text": [
            "INFO:hyperopt.tpe:build_posterior_wrapper took 0.000587 seconds\n",
            "\n",
            "INFO:hyperopt.tpe:TPE using 11/11 trials with best loss 1.602659\n",
            "\n",
            "INFO:guidedlda:n_documents: 10273\n",
            "\n",
            "INFO:guidedlda:vocab_size: 10811\n",
            "\n",
            "INFO:guidedlda:n_words: 1516968\n",
            "\n",
            "INFO:guidedlda:n_topics: 16\n",
            "\n",
            "INFO:guidedlda:n_iter: 100\n",
            "\n",
            "WARNING:guidedlda:all zero row in document-term matrix found\n",
            "\n",
            "INFO:guidedlda:<0> log likelihood: -18822162\n",
            "\n",
            "INFO:guidedlda:<20> log likelihood: -13944043\n",
            "\n",
            "INFO:guidedlda:<40> log likelihood: -13663619\n",
            "\n",
            "INFO:guidedlda:<60> log likelihood: -13533272\n",
            "\n",
            "INFO:guidedlda:<80> log likelihood: -13455646\n",
            "\n",
            "INFO:guidedlda:<99> log likelihood: -13404734\n",
            "\n",
            "INFO:gensim.topic_coherence.text_analysis:CorpusAccumulator accumulated stats from 1000 documents\n",
            "\n",
            "INFO:gensim.topic_coherence.text_analysis:CorpusAccumulator accumulated stats from 2000 documents\n",
            "\n",
            "INFO:gensim.topic_coherence.text_analysis:CorpusAccumulator accumulated stats from 3000 documents\n",
            "\n",
            "INFO:gensim.topic_coherence.text_analysis:CorpusAccumulator accumulated stats from 4000 documents\n",
            "\n",
            "INFO:gensim.topic_coherence.text_analysis:CorpusAccumulator accumulated stats from 5000 documents\n",
            "\n",
            "INFO:gensim.topic_coherence.text_analysis:CorpusAccumulator accumulated stats from 6000 documents\n",
            "\n",
            "INFO:gensim.topic_coherence.text_analysis:CorpusAccumulator accumulated stats from 7000 documents\n",
            "\n",
            "INFO:gensim.topic_coherence.text_analysis:CorpusAccumulator accumulated stats from 8000 documents\n",
            "\n",
            "INFO:gensim.topic_coherence.text_analysis:CorpusAccumulator accumulated stats from 9000 documents\n",
            "\n",
            "INFO:gensim.topic_coherence.text_analysis:CorpusAccumulator accumulated stats from 10000 documents\n",
            "\n"
          ],
          "name": "stderr"
        },
        {
          "output_type": "stream",
          "text": [
            "\r 92%|█████████▏| 12/13 [06:31<00:32, 32.40s/trial, best loss: 1.6026590673320396]"
          ],
          "name": "stdout"
        },
        {
          "output_type": "stream",
          "text": [
            "INFO:hyperopt.tpe:build_posterior_wrapper took 0.000552 seconds\n",
            "\n",
            "INFO:hyperopt.tpe:TPE using 12/12 trials with best loss 1.602659\n",
            "\n",
            "INFO:guidedlda:n_documents: 10273\n",
            "\n",
            "INFO:guidedlda:vocab_size: 10811\n",
            "\n",
            "INFO:guidedlda:n_words: 1516968\n",
            "\n",
            "INFO:guidedlda:n_topics: 17\n",
            "\n",
            "INFO:guidedlda:n_iter: 100\n",
            "\n",
            "WARNING:guidedlda:all zero row in document-term matrix found\n",
            "\n",
            "INFO:guidedlda:<0> log likelihood: -19013374\n",
            "\n",
            "INFO:guidedlda:<20> log likelihood: -13975919\n",
            "\n",
            "INFO:guidedlda:<40> log likelihood: -13661170\n",
            "\n",
            "INFO:guidedlda:<60> log likelihood: -13527363\n",
            "\n",
            "INFO:guidedlda:<80> log likelihood: -13444137\n",
            "\n",
            "INFO:guidedlda:<99> log likelihood: -13384668\n",
            "\n",
            "INFO:gensim.topic_coherence.text_analysis:CorpusAccumulator accumulated stats from 1000 documents\n",
            "\n",
            "INFO:gensim.topic_coherence.text_analysis:CorpusAccumulator accumulated stats from 2000 documents\n",
            "\n",
            "INFO:gensim.topic_coherence.text_analysis:CorpusAccumulator accumulated stats from 3000 documents\n",
            "\n",
            "INFO:gensim.topic_coherence.text_analysis:CorpusAccumulator accumulated stats from 4000 documents\n",
            "\n",
            "INFO:gensim.topic_coherence.text_analysis:CorpusAccumulator accumulated stats from 5000 documents\n",
            "\n",
            "INFO:gensim.topic_coherence.text_analysis:CorpusAccumulator accumulated stats from 6000 documents\n",
            "\n",
            "INFO:gensim.topic_coherence.text_analysis:CorpusAccumulator accumulated stats from 7000 documents\n",
            "\n",
            "INFO:gensim.topic_coherence.text_analysis:CorpusAccumulator accumulated stats from 8000 documents\n",
            "\n",
            "INFO:gensim.topic_coherence.text_analysis:CorpusAccumulator accumulated stats from 9000 documents\n",
            "\n",
            "INFO:gensim.topic_coherence.text_analysis:CorpusAccumulator accumulated stats from 10000 documents\n",
            "\n"
          ],
          "name": "stderr"
        },
        {
          "output_type": "stream",
          "text": [
            "100%|██████████| 13/13 [07:06<00:00, 32.81s/trial, best loss: 1.6026590673320396]\n",
            "module 'topic_model_hyper_param_opt' has no attribute 'n_topics_values_list_guidedlda'\n"
          ],
          "name": "stdout"
        }
      ]
    },
    {
      "cell_type": "code",
      "metadata": {
        "id": "8K_ptOgW3XXX"
      },
      "source": [
        "# Save optimal params for both stages.\n",
        "with open('optimal_params_result_guidedlda.json', 'w') as json_file:\n",
        "    json.dump(optimal_params_result, json_file)\n",
        "json_file.close()"
      ],
      "execution_count": 22,
      "outputs": []
    },
    {
      "cell_type": "code",
      "metadata": {
        "id": "Hxs2nePF3XZY",
        "colab": {
          "base_uri": "https://localhost:8080/"
        },
        "outputId": "bec07514-1a7d-4636-cf8e-0c5df1fbe78a"
      },
      "source": [
        "with open('optimal_params_result_guidedlda.json') as json_file:\n",
        "    optimal_params_result = json.load(json_file)\n",
        "json_file.close()\n",
        "\n",
        "# Change dictionary element n_topics type from float to int \n",
        "# because float is not possible type for guidedlda model n_topics param.\n",
        "optimal_params_result['n_topics'] = int(optimal_params_result['n_topics'])\n",
        "\n",
        "print(optimal_params_result)\n",
        "\n",
        "model_guidedlda = guidedlda.GuidedLDA(n_iter=20, refresh=5, random_state=420, **optimal_params_result)\n",
        "model_guidedlda.fit(data_vect, seed_topics=seed_topics, seed_confidence=0.5)"
      ],
      "execution_count": 23,
      "outputs": [
        {
          "output_type": "stream",
          "text": [
            "INFO:guidedlda:n_documents: 10273\n",
            "\n",
            "INFO:guidedlda:vocab_size: 10811\n",
            "\n",
            "INFO:guidedlda:n_words: 1516968\n",
            "\n",
            "INFO:guidedlda:n_topics: 12\n",
            "\n",
            "INFO:guidedlda:n_iter: 20\n",
            "\n",
            "WARNING:guidedlda:all zero row in document-term matrix found\n",
            "\n"
          ],
          "name": "stderr"
        },
        {
          "output_type": "stream",
          "text": [
            "{'alpha': 0.001, 'eta': 0.006, 'n_topics': 12}\n"
          ],
          "name": "stdout"
        },
        {
          "output_type": "stream",
          "text": [
            "INFO:guidedlda:<0> log likelihood: -17962525\n",
            "\n",
            "INFO:guidedlda:<5> log likelihood: -15408905\n",
            "\n",
            "INFO:guidedlda:<10> log likelihood: -14195020\n",
            "\n",
            "INFO:guidedlda:<15> log likelihood: -13865736\n",
            "\n",
            "INFO:guidedlda:<19> log likelihood: -13722148\n",
            "\n"
          ],
          "name": "stderr"
        },
        {
          "output_type": "execute_result",
          "data": {
            "text/plain": [
              "<guidedlda.guidedlda.GuidedLDA at 0x7faec9e99390>"
            ]
          },
          "metadata": {
            "tags": []
          },
          "execution_count": 23
        }
      ]
    },
    {
      "cell_type": "code",
      "metadata": {
        "id": "ggGFTroH3XbU",
        "colab": {
          "base_uri": "https://localhost:8080/"
        },
        "outputId": "8181ee63-07b9-4383-8d6c-bbabe4da661f"
      },
      "source": [
        "n_top_words = 15\n",
        "topic_word = model_guidedlda.topic_word_\n",
        "for i, topic_dist in enumerate(topic_word):\n",
        "     topic_words = np.array(feature_names)[np.argsort(topic_dist)][:-(n_top_words+1):-1]\n",
        "     print('Topic {}: {}'.format(i, ', '.join(topic_words)))\n",
        "\n",
        "n_top_words = 20\n",
        "topic_word = model_guidedlda.topic_word_\n",
        "topics_lists = []\n",
        "for i, topic_dist in enumerate(topic_word):\n",
        "    topic_words = list(np.array(feature_names)[np.argsort(topic_dist)][:-(n_top_words+1):-1])\n",
        "    topics_lists.append(topic_words)\n",
        "print(len(topics_lists), len(topics_lists[0]))"
      ],
      "execution_count": 24,
      "outputs": [
        {
          "output_type": "stream",
          "text": [
            "Topic 0: sei, wien, sagte, seien, euro, wegen, oesterreich, sagt, laut, fall, schon, koennen, wiener, heisst, seit\n",
            "Topic 1: spiel, trainer, ersten, team, sieg, zwei, saison, rapid, league, fc, drei, salzburg, fussball, platz, schon\n",
            "Topic 2: apple, google, koennen, nutzer, allerdings, neue, facebook, window, unternehmen, etwa, gibt, microsoft, android, neuen, dabei\n",
            "Topic 3: orf, standard, wien, prozent, oesterreich, schon, wiener, immer, sagt, gibt, geht, tv, gut, heute, fpoe\n",
            "Topic 4: prozent, euro, millionen, jahr, rund, laut, wien, oesterreich, milliarden, seit, unternehmen, jahren, sei, dollar, mio\n",
            "Topic 5: spoe, oevp, sei, fpoe, prozent, partei, regierung, sagte, gruenen, wahl, euro, chef, wien, praesident, eu\n",
            "Topic 6: eu, fluechtlinge, oesterreich, sei, sagte, menschen, deutschland, griechenland, fluechtlingen, sollen, grenze, staaten, seien, regierung, europa\n",
            "Topic 7: sagte, menschen, is, sei, regierung, polizei, syrien, seien, seit, angaben, zwei, usa, tuerkei, russland, getoetet\n",
            "Topic 8: jaehrige, wegen, sei, zwei, frau, mann, drei, new, trump, wien, jahre, jahren, seit, sagte, spaeter\n",
            "Topic 9: standard, gibt, sagt, menschen, koennen, immer, viele, schon, etwa, jahren, muessen, geht, oesterreich, kinder, leben\n",
            "Topic 10: zwei, jahr, seit, jahren, drei, ersten, jahre, rund, grad, wien, millionen, schon, prozent, vier, sagt\n",
            "Topic 11: the, jahren, schon, wien, jahre, immer, seit, heute, welt, leben, geschichte, dabei, zeit, frau, film\n",
            "12 20\n"
          ],
          "name": "stdout"
        }
      ]
    },
    {
      "cell_type": "code",
      "metadata": {
        "id": "Pdh-G22WT0R8"
      },
      "source": [
        ""
      ],
      "execution_count": null,
      "outputs": []
    },
    {
      "cell_type": "markdown",
      "metadata": {
        "id": "3E15hVNfHWpU"
      },
      "source": [
        "## Plots"
      ]
    },
    {
      "cell_type": "code",
      "metadata": {
        "colab": {
          "base_uri": "https://localhost:8080/",
          "height": 349
        },
        "id": "xE396c_kGAQM",
        "outputId": "8a98243e-6b1e-491c-ab38-cb71c07aa652"
      },
      "source": [
        "# Show the loss vs. number of topics of Stage 2 optimization.\n",
        "f, ax = plt.subplots(1)\n",
        "trials_stage_2_df = trials_stage_2_df.sort_values(by='n_topics')\n",
        "xs = trials_stage_2_df['n_topics']\n",
        "ys = trials_stage_2_df['loss']\n",
        "plt.plot(xs, ys, linestyle='solid',color='blue')\n",
        "ax.set_title('Loss vs num_topics')\n",
        "ax.set_xlabel('n_topics')\n",
        "ax.set_ylabel('Loss')\n",
        "f.text(0.05, -0.1, 'note_text_placeholder', fontsize=12, color='green')"
      ],
      "execution_count": 25,
      "outputs": [
        {
          "output_type": "execute_result",
          "data": {
            "text/plain": [
              "Text(0.05, -0.1, 'note_text_placeholder')"
            ]
          },
          "metadata": {
            "tags": []
          },
          "execution_count": 25
        },
        {
          "output_type": "display_data",
          "data": {
            "image/png": "[encoded data removed]",
            "text/plain": [
              "<Figure size 432x288 with 1 Axes>"
            ]
          },
          "metadata": {
            "tags": [],
            "needs_background": "light"
          }
        }
      ]
    },
    {
      "cell_type": "code",
      "metadata": {
        "colab": {
          "base_uri": "https://localhost:8080/",
          "height": 635
        },
        "id": "Gux3Sl9CSqKg",
        "outputId": "e6396fc6-0a45-4c5f-84e2-37932e3d0604"
      },
      "source": [
        "from topic_model_hyper_param_opt import plot_loss_vs_params \n",
        "\n",
        "# Plot the loss vs. params of Stage 1 optimization\n",
        "plot_loss_vs_params(\n",
        "    trials_stage_1_df,\n",
        "    quantile_of_loss=1.0,\n",
        "    ncols_plot=2,\n",
        "    file_path='test.png',\n",
        "    note_text='note_text_placeholder',\n",
        "    save_plot=True,\n",
        "    show_plot=True\n",
        ")"
      ],
      "execution_count": 31,
      "outputs": [
        {
          "output_type": "stream",
          "text": [
            "Note_text will not be displayed\n",
            "Probably because position [2, 0] does not exist\n",
            "index 2 is out of bounds for axis 0 with size 2\n"
          ],
          "name": "stdout"
        },
        {
          "output_type": "display_data",
          "data": {
            "image/png": "[encoded data removed]",
            "text/plain": [
              "<Figure size 576x576 with 4 Axes>"
            ]
          },
          "metadata": {
            "tags": [],
            "needs_background": "light"
          }
        }
      ]
    }
  ]
}